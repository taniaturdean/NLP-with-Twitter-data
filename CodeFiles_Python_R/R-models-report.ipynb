{
 "cells": [
  {
   "cell_type": "code",
   "execution_count": null,
   "metadata": {
    "collapsed": true,
    "deletable": true,
    "editable": true
   },
   "outputs": [],
   "source": [
    "#-------------------------------------# # Library importations # #-------------------------------------#"
   ]
  },
  {
   "cell_type": "code",
   "execution_count": 2,
   "metadata": {
    "collapsed": false,
    "deletable": true,
    "editable": true
   },
   "outputs": [
    {
     "ename": "ERROR",
     "evalue": "Error in library(stringr): Package ‘stringr’ version 1.2.0 cannot be unloaded\n",
     "output_type": "error",
     "traceback": [
      "Error in library(stringr): Package ‘stringr’ version 1.2.0 cannot be unloaded\nTraceback:\n",
      "1. library(stringr)",
      "2. stop(gettextf(\"Package %s version %s cannot be unloaded\", sQuote(package), \n .     oldversion), domain = NA)"
     ]
    }
   ],
   "source": [
    ".libPaths(\"/usr/local/lib/R/site-library\") # You need to run this line if you are using Jupyter server\n",
    "library(stringr) \n",
    "library(jsonlite)\n",
    "library(plyr)\n",
    "library(lubridate)\n",
    "library(parallel)\n",
    "library(rpart)\n",
    "\n"
   ]
  },
  {
   "cell_type": "code",
   "execution_count": 3,
   "metadata": {
    "collapsed": true,
    "deletable": true,
    "editable": true
   },
   "outputs": [],
   "source": [
    "library(xgboost)"
   ]
  },
  {
   "cell_type": "code",
   "execution_count": 4,
   "metadata": {
    "collapsed": false,
    "deletable": true,
    "editable": true
   },
   "outputs": [
    {
     "name": "stderr",
     "output_type": "stream",
     "text": [
      "randomForest 4.6-12\n",
      "Type rfNews() to see new features/changes/bug fixes.\n"
     ]
    }
   ],
   "source": [
    "library(foreach)\n",
    "library(randomForest)"
   ]
  },
  {
   "cell_type": "code",
   "execution_count": 5,
   "metadata": {
    "collapsed": false,
    "deletable": true,
    "editable": true
   },
   "outputs": [
    {
     "name": "stderr",
     "output_type": "stream",
     "text": [
      "Loading required package: iterators\n",
      "Loading required package: snow\n",
      "\n",
      "Attaching package: ‘parallel’\n",
      "\n",
      "The following objects are masked from ‘package:snow’:\n",
      "\n",
      "    clusterApply, clusterApplyLB, clusterCall, clusterEvalQ,\n",
      "    clusterExport, clusterMap, clusterSplit, makeCluster, parApply,\n",
      "    parCapply, parLapply, parRapply, parSapply, splitIndices,\n",
      "    stopCluster\n",
      "\n"
     ]
    },
    {
     "data": {
      "text/html": [
       "8"
      ],
      "text/latex": [
       "8"
      ],
      "text/markdown": [
       "8"
      ],
      "text/plain": [
       "[1] 8"
      ]
     },
     "metadata": {},
     "output_type": "display_data"
    }
   ],
   "source": [
    "library(doSNOW)\n",
    "library(foreach)\n",
    "library(parallel)\n",
    "\n",
    "# Set up your multiple cores as separate workers and then make them a cluster.\n",
    "workers <- detectCores()\n",
    "workers # How many cores do you have?\n",
    "cluster <- makeCluster(workers, type = \"SOCK\")\n",
    "registerDoSNOW(cluster)"
   ]
  },
  {
   "cell_type": "code",
   "execution_count": null,
   "metadata": {
    "collapsed": true,
    "deletable": true,
    "editable": true
   },
   "outputs": [],
   "source": [
    "################################### SECTION 3: PREPARE THE DATA  ###########################################"
   ]
  },
  {
   "cell_type": "code",
   "execution_count": 6,
   "metadata": {
    "collapsed": false,
    "deletable": true,
    "editable": true
   },
   "outputs": [
    {
     "data": {
      "text/html": [
       "<table>\n",
       "<thead><tr><th scope=col>X1</th><th scope=col>author_id</th><th scope=col>created_at</th><th scope=col>retweets_nr</th><th scope=col>reply_nr</th><th scope=col>like_nr</th><th scope=col>quote_nr</th><th scope=col>mentions_usernames</th><th scope=col>id</th><th scope=col>text</th><th scope=col>⋯</th><th scope=col>reply_settings</th><th scope=col>hour</th><th scope=col>month</th><th scope=col>day</th><th scope=col>year</th><th scope=col>textCleanLem</th><th scope=col>Score</th><th scope=col>Handle_Count</th><th scope=col>Hashtag_Count</th><th scope=col>avg_score</th></tr></thead>\n",
       "<tbody>\n",
       "\t<tr><td>0                                                                                                                                              </td><td>20123238                                                                                                                                       </td><td>2020-07-27 13:50:12                                                                                                                            </td><td>0                                                                                                                                              </td><td>0                                                                                                                                              </td><td>0                                                                                                                                              </td><td>0                                                                                                                                              </td><td>'BottleRockNapa', 'JaMCellars', 'ElleKingMusic'                                                                                                </td><td>1.287747e+18                                                                                                                                   </td><td>@BottleRockNapa @JaMCellars @ElleKingMusic Why did you cut Santana down to a 2 song set (slight exaggeration)? At least Muse didn't get edited.</td><td>⋯                                                                                                                                              </td><td>everyone                                                                                                                                       </td><td>13                                                                                                                                             </td><td>7                                                                                                                                              </td><td>27                                                                                                                                             </td><td>2020                                                                                                                                           </td><td>jamcellars  ellekingmusic cut santana  song set  slight exaggeration  least muse  get edited                                                   </td><td>0                                                                                                                                              </td><td>3                                                                                                                                              </td><td>0                                                                                                                                              </td><td>5.205714                                                                                                                                       </td></tr>\n",
       "</tbody>\n",
       "</table>\n"
      ],
      "text/latex": [
       "\\begin{tabular}{r|llllllllllllllllllllll}\n",
       " X1 & author\\_id & created\\_at & retweets\\_nr & reply\\_nr & like\\_nr & quote\\_nr & mentions\\_usernames & id & text & ⋯ & reply\\_settings & hour & month & day & year & textCleanLem & Score & Handle\\_Count & Hashtag\\_Count & avg\\_score\\\\\n",
       "\\hline\n",
       "\t 0                                                                                                                                               & 20123238                                                                                                                                        & 2020-07-27 13:50:12                                                                                                                             & 0                                                                                                                                               & 0                                                                                                                                               & 0                                                                                                                                               & 0                                                                                                                                               & 'BottleRockNapa', 'JaMCellars', 'ElleKingMusic'                                                                                                 & 1.287747e+18                                                                                                                                    & @BottleRockNapa @JaMCellars @ElleKingMusic Why did you cut Santana down to a 2 song set (slight exaggeration)? At least Muse didn't get edited. & ⋯                                                                                                                                               & everyone                                                                                                                                        & 13                                                                                                                                              & 7                                                                                                                                               & 27                                                                                                                                              & 2020                                                                                                                                            & jamcellars  ellekingmusic cut santana  song set  slight exaggeration  least muse  get edited                                                    & 0                                                                                                                                               & 3                                                                                                                                               & 0                                                                                                                                               & 5.205714                                                                                                                                       \\\\\n",
       "\\end{tabular}\n"
      ],
      "text/markdown": [
       "\n",
       "X1 | author_id | created_at | retweets_nr | reply_nr | like_nr | quote_nr | mentions_usernames | id | text | ⋯ | reply_settings | hour | month | day | year | textCleanLem | Score | Handle_Count | Hashtag_Count | avg_score | \n",
       "|---|\n",
       "| 0                                                                                                                                               | 20123238                                                                                                                                        | 2020-07-27 13:50:12                                                                                                                             | 0                                                                                                                                               | 0                                                                                                                                               | 0                                                                                                                                               | 0                                                                                                                                               | 'BottleRockNapa', 'JaMCellars', 'ElleKingMusic'                                                                                                 | 1.287747e+18                                                                                                                                    | @BottleRockNapa @JaMCellars @ElleKingMusic Why did you cut Santana down to a 2 song set (slight exaggeration)? At least Muse didn't get edited. | ⋯                                                                                                                                               | everyone                                                                                                                                        | 13                                                                                                                                              | 7                                                                                                                                               | 27                                                                                                                                              | 2020                                                                                                                                            | jamcellars  ellekingmusic cut santana  song set  slight exaggeration  least muse  get edited                                                    | 0                                                                                                                                               | 3                                                                                                                                               | 0                                                                                                                                               | 5.205714                                                                                                                                        | \n",
       "\n",
       "\n"
      ],
      "text/plain": [
       "  X1 author_id created_at          retweets_nr reply_nr like_nr quote_nr\n",
       "1 0  20123238  2020-07-27 13:50:12 0           0        0       0       \n",
       "  mentions_usernames                              id          \n",
       "1 'BottleRockNapa', 'JaMCellars', 'ElleKingMusic' 1.287747e+18\n",
       "  text                                                                                                                                           \n",
       "1 @BottleRockNapa @JaMCellars @ElleKingMusic Why did you cut Santana down to a 2 song set (slight exaggeration)? At least Muse didn't get edited.\n",
       "  ⋯ reply_settings hour month day year\n",
       "1 ⋯ everyone       13   7     27  2020\n",
       "  textCleanLem                                                                                \n",
       "1 jamcellars  ellekingmusic cut santana  song set  slight exaggeration  least muse  get edited\n",
       "  Score Handle_Count Hashtag_Count avg_score\n",
       "1 0     3            0             5.205714 "
      ]
     },
     "metadata": {},
     "output_type": "display_data"
    }
   ],
   "source": [
    "# Load in the training set.\n",
    "train.df <- read.csv(\"data analytics 2 twitter_train_allVariables.csv\")\n",
    "train.df[1,]"
   ]
  },
  {
   "cell_type": "code",
   "execution_count": 7,
   "metadata": {
    "collapsed": false,
    "deletable": true,
    "editable": true
   },
   "outputs": [
    {
     "data": {
      "text/html": [
       "<table>\n",
       "<thead><tr><th scope=col>X1</th><th scope=col>author_id</th><th scope=col>created_at</th><th scope=col>retweets_nr</th><th scope=col>reply_nr</th><th scope=col>like_nr</th><th scope=col>quote_nr</th><th scope=col>mentions_usernames</th><th scope=col>id</th><th scope=col>text</th><th scope=col>⋯</th><th scope=col>reply_settings</th><th scope=col>hour</th><th scope=col>month</th><th scope=col>day</th><th scope=col>year</th><th scope=col>textCleanLem</th><th scope=col>Score</th><th scope=col>Handle_Count</th><th scope=col>Hashtag_Count</th><th scope=col>avg_score</th></tr></thead>\n",
       "<tbody>\n",
       "\t<tr><td>0                                                                                                                                                                                                                                                                                                       </td><td>2.012324e+07                                                                                                                                                                                                                                                                                            </td><td>2020-07-27 13:50:12                                                                                                                                                                                                                                                                                     </td><td>0                                                                                                                                                                                                                                                                                                       </td><td>0                                                                                                                                                                                                                                                                                                       </td><td>0                                                                                                                                                                                                                                                                                                       </td><td>0                                                                                                                                                                                                                                                                                                       </td><td>'BottleRockNapa', 'JaMCellars', 'ElleKingMusic'                                                                                                                                                                                                                                                         </td><td>1.287747e+18                                                                                                                                                                                                                                                                                            </td><td>@BottleRockNapa @JaMCellars @ElleKingMusic Why did you cut Santana down to a 2 song set (slight exaggeration)? At least Muse didn't get edited.                                                                                                                                                         </td><td>⋯                                                                                                                                                                                                                                                                                                       </td><td>everyone                                                                                                                                                                                                                                                                                                </td><td>13                                                                                                                                                                                                                                                                                                      </td><td>7                                                                                                                                                                                                                                                                                                       </td><td>27                                                                                                                                                                                                                                                                                                      </td><td>2020                                                                                                                                                                                                                                                                                                    </td><td>jamcellars  ellekingmusic cut santana  song set  slight exaggeration  least muse  get edited                                                                                                                                                                                                            </td><td>0                                                                                                                                                                                                                                                                                                       </td><td>3                                                                                                                                                                                                                                                                                                       </td><td>0                                                                                                                                                                                                                                                                                                       </td><td>5.205714                                                                                                                                                                                                                                                                                                </td></tr>\n",
       "\t<tr><td>1                                                                                                                                                                                                                                                                                                       </td><td>2.358610e+09                                                                                                                                                                                                                                                                                            </td><td>2020-07-25 21:07:09                                                                                                                                                                                                                                                                                     </td><td>0                                                                                                                                                                                                                                                                                                       </td><td>0                                                                                                                                                                                                                                                                                                       </td><td>1                                                                                                                                                                                                                                                                                                       </td><td>0                                                                                                                                                                                                                                                                                                       </td><td>'BottleRockNapa', 'JaMCellars', 'ElleKingMusic'                                                                                                                                                                                                                                                         </td><td>1.287132e+18                                                                                                                                                                                                                                                                                            </td><td>@BottleRockNapa @JaMCellars @ElleKingMusic I was there her set was peppered with some heavy rockabilly vibes fantastic                                                                                                                                                                                  </td><td>⋯                                                                                                                                                                                                                                                                                                       </td><td>everyone                                                                                                                                                                                                                                                                                                </td><td>21                                                                                                                                                                                                                                                                                                      </td><td>7                                                                                                                                                                                                                                                                                                       </td><td>25                                                                                                                                                                                                                                                                                                      </td><td>2020                                                                                                                                                                                                                                                                                                    </td><td>jamcellars  ellekingmusic set peppered heavy rockabilly vibe fantastic                                                                                                                                                                                                                                  </td><td>1                                                                                                                                                                                                                                                                                                       </td><td>3                                                                                                                                                                                                                                                                                                       </td><td>0                                                                                                                                                                                                                                                                                                       </td><td>5.870000                                                                                                                                                                                                                                                                                                </td></tr>\n",
       "\t<tr><td>2                                                                                                                                                                                                                                                                                                       </td><td>5.931166e+07                                                                                                                                                                                                                                                                                            </td><td>2020-07-25 19:30:00                                                                                                                                                                                                                                                                                     </td><td>0                                                                                                                                                                                                                                                                                                       </td><td>0                                                                                                                                                                                                                                                                                                       </td><td>1                                                                                                                                                                                                                                                                                                       </td><td>0                                                                                                                                                                                                                                                                                                       </td><td>'wearetwinxl', 'BottleRockNapa', 'CameronWalker'                                                                                                                                                                                                                                                        </td><td>1.287108e+18                                                                                                                                                                                                                                                                                            </td><td>INTERVIEW: Twin XL (@wearetwinxl) rides 'Good' vibes all the way to a new act for its career musicians. Will they play @BottleRockNapa next May? | @CameronWalker ✏: me https://t.co/vzwVk2aIQx                                                                                                         </td><td>⋯                                                                                                                                                                                                                                                                                                       </td><td>everyone                                                                                                                                                                                                                                                                                                </td><td>19                                                                                                                                                                                                                                                                                                      </td><td>7                                                                                                                                                                                                                                                                                                       </td><td>25                                                                                                                                                                                                                                                                                                      </td><td>2020                                                                                                                                                                                                                                                                                                    </td><td>interview  twin xl  wearetwinxl  ride  good  vibe way new act career musician  play  next may    cameronwalker                                                                                                                                                                                          </td><td>1                                                                                                                                                                                                                                                                                                       </td><td>3                                                                                                                                                                                                                                                                                                       </td><td>0                                                                                                                                                                                                                                                                                                       </td><td>6.201538                                                                                                                                                                                                                                                                                                </td></tr>\n",
       "\t<tr><td>3                                                                                                                                                                                                                                                                                                       </td><td>1.044741e+18                                                                                                                                                                                                                                                                                            </td><td>2020-07-25 17:56:38                                                                                                                                                                                                                                                                                     </td><td>0                                                                                                                                                                                                                                                                                                       </td><td>0                                                                                                                                                                                                                                                                                                       </td><td>0                                                                                                                                                                                                                                                                                                       </td><td>0                                                                                                                                                                                                                                                                                                       </td><td>'BottleRockNapa', 'ChiliPeppers'                                                                                                                                                                                                                                                                        </td><td>1.287084e+18                                                                                                                                                                                                                                                                                            </td><td>@BottleRockNapa @ChiliPeppers Talento BRASILEIRO...♥️🎶\n",
       "\n",
       " https://t.co/iKDy7JwN57                                                                                                                                                                                                                       </td><td>⋯                                                                                                                                                                                                                                                                                                       </td><td>everyone                                                                                                                                                                                                                                                                                                </td><td>17                                                                                                                                                                                                                                                                                                      </td><td>7                                                                                                                                                                                                                                                                                                       </td><td>25                                                                                                                                                                                                                                                                                                      </td><td>2020                                                                                                                                                                                                                                                                                                    </td><td>chilipeppers talento brasileiro                                                                                                                                                                                                                                                                         </td><td>0                                                                                                                                                                                                                                                                                                       </td><td>2                                                                                                                                                                                                                                                                                                       </td><td>0                                                                                                                                                                                                                                                                                                       </td><td>6.243247                                                                                                                                                                                                                                                                                                </td></tr>\n",
       "\t<tr><td>4                                                                                                                                                                                                                                                                                                       </td><td>1.760610e+07                                                                                                                                                                                                                                                                                            </td><td>2020-07-25 05:30:49                                                                                                                                                                                                                                                                                     </td><td>0                                                                                                                                                                                                                                                                                                       </td><td>0                                                                                                                                                                                                                                                                                                       </td><td>1                                                                                                                                                                                                                                                                                                       </td><td>0                                                                                                                                                                                                                                                                                                       </td><td>'BottleRockNapa', 'NRateliff', 'SantanaCarlos'                                                                                                                                                                                                                                                          </td><td>1.286897e+18                                                                                                                                                                                                                                                                                            </td><td>@BottleRockNapa @NRateliff @SantanaCarlos Loved it! ❤                                                                                                                                                                                                                                                   </td><td>⋯                                                                                                                                                                                                                                                                                                       </td><td>everyone                                                                                                                                                                                                                                                                                                </td><td> 5                                                                                                                                                                                                                                                                                                      </td><td>7                                                                                                                                                                                                                                                                                                       </td><td>25                                                                                                                                                                                                                                                                                                      </td><td>2020                                                                                                                                                                                                                                                                                                    </td><td>nrateliff  santanacarlos loved                                                                                                                                                                                                                                                                          </td><td>1                                                                                                                                                                                                                                                                                                       </td><td>3                                                                                                                                                                                                                                                                                                       </td><td>0                                                                                                                                                                                                                                                                                                       </td><td>7.960000                                                                                                                                                                                                                                                                                                </td></tr>\n",
       "\t<tr><td>5                                                                                                                                                                                                                                                                                                       </td><td>7.685055e+08                                                                                                                                                                                                                                                                                            </td><td>2020-07-25 04:37:25                                                                                                                                                                                                                                                                                     </td><td>0                                                                                                                                                                                                                                                                                                       </td><td>1                                                                                                                                                                                                                                                                                                       </td><td>1                                                                                                                                                                                                                                                                                                       </td><td>0                                                                                                                                                                                                                                                                                                       </td><td>'BottleRockNapa', 'LiveNation'                                                                                                                                                                                                                                                                          </td><td>1.286883e+18                                                                                                                                                                                                                                                                                            </td><td>@BottleRockNapa So sad to see this end. Has been a weekly positive end to many stressful work weeks. I have enjoyed my favorites and new fan to several groups. @LiveNation I hope we can continue this in some other format. Music uplifts the soul during these dark hours. Thanks to all the artists!</td><td>⋯                                                                                                                                                                                                                                                                                                       </td><td>everyone                                                                                                                                                                                                                                                                                                </td><td> 4                                                                                                                                                                                                                                                                                                      </td><td>7                                                                                                                                                                                                                                                                                                       </td><td>25                                                                                                                                                                                                                                                                                                      </td><td>2020                                                                                                                                                                                                                                                                                                    </td><td>sad see end  weekly positive end many stressful work week  enjoyed favorite new fan several group   livenation hope continue format  music uplift soul dark hour  thanks artist                                                                                                                         </td><td>2                                                                                                                                                                                                                                                                                                       </td><td>2                                                                                                                                                                                                                                                                                                       </td><td>0                                                                                                                                                                                                                                                                                                       </td><td>5.952500                                                                                                                                                                                                                                                                                                </td></tr>\n",
       "</tbody>\n",
       "</table>\n"
      ],
      "text/latex": [
       "\\begin{tabular}{r|llllllllllllllllllllll}\n",
       " X1 & author\\_id & created\\_at & retweets\\_nr & reply\\_nr & like\\_nr & quote\\_nr & mentions\\_usernames & id & text & ⋯ & reply\\_settings & hour & month & day & year & textCleanLem & Score & Handle\\_Count & Hashtag\\_Count & avg\\_score\\\\\n",
       "\\hline\n",
       "\t 0                                                                                                                                                                                                                                                                                                        & 2.012324e+07                                                                                                                                                                                                                                                                                             & 2020-07-27 13:50:12                                                                                                                                                                                                                                                                                      & 0                                                                                                                                                                                                                                                                                                        & 0                                                                                                                                                                                                                                                                                                        & 0                                                                                                                                                                                                                                                                                                        & 0                                                                                                                                                                                                                                                                                                        & 'BottleRockNapa', 'JaMCellars', 'ElleKingMusic'                                                                                                                                                                                                                                                          & 1.287747e+18                                                                                                                                                                                                                                                                                             & @BottleRockNapa @JaMCellars @ElleKingMusic Why did you cut Santana down to a 2 song set (slight exaggeration)? At least Muse didn't get edited.                                                                                                                                                          & ⋯                                                                                                                                                                                                                                                                                                        & everyone                                                                                                                                                                                                                                                                                                 & 13                                                                                                                                                                                                                                                                                                       & 7                                                                                                                                                                                                                                                                                                        & 27                                                                                                                                                                                                                                                                                                       & 2020                                                                                                                                                                                                                                                                                                     & jamcellars  ellekingmusic cut santana  song set  slight exaggeration  least muse  get edited                                                                                                                                                                                                             & 0                                                                                                                                                                                                                                                                                                        & 3                                                                                                                                                                                                                                                                                                        & 0                                                                                                                                                                                                                                                                                                        & 5.205714                                                                                                                                                                                                                                                                                                \\\\\n",
       "\t 1                                                                                                                                                                                                                                                                                                        & 2.358610e+09                                                                                                                                                                                                                                                                                             & 2020-07-25 21:07:09                                                                                                                                                                                                                                                                                      & 0                                                                                                                                                                                                                                                                                                        & 0                                                                                                                                                                                                                                                                                                        & 1                                                                                                                                                                                                                                                                                                        & 0                                                                                                                                                                                                                                                                                                        & 'BottleRockNapa', 'JaMCellars', 'ElleKingMusic'                                                                                                                                                                                                                                                          & 1.287132e+18                                                                                                                                                                                                                                                                                             & @BottleRockNapa @JaMCellars @ElleKingMusic I was there her set was peppered with some heavy rockabilly vibes fantastic                                                                                                                                                                                   & ⋯                                                                                                                                                                                                                                                                                                        & everyone                                                                                                                                                                                                                                                                                                 & 21                                                                                                                                                                                                                                                                                                       & 7                                                                                                                                                                                                                                                                                                        & 25                                                                                                                                                                                                                                                                                                       & 2020                                                                                                                                                                                                                                                                                                     & jamcellars  ellekingmusic set peppered heavy rockabilly vibe fantastic                                                                                                                                                                                                                                   & 1                                                                                                                                                                                                                                                                                                        & 3                                                                                                                                                                                                                                                                                                        & 0                                                                                                                                                                                                                                                                                                        & 5.870000                                                                                                                                                                                                                                                                                                \\\\\n",
       "\t 2                                                                                                                                                                                                                                                                                                                  & 5.931166e+07                                                                                                                                                                                                                                                                                                       & 2020-07-25 19:30:00                                                                                                                                                                                                                                                                                                & 0                                                                                                                                                                                                                                                                                                                  & 0                                                                                                                                                                                                                                                                                                                  & 1                                                                                                                                                                                                                                                                                                                  & 0                                                                                                                                                                                                                                                                                                                  & 'wearetwinxl', 'BottleRockNapa', 'CameronWalker'                                                                                                                                                                                                                                                                   & 1.287108e+18                                                                                                                                                                                                                                                                                                       & INTERVIEW: Twin XL (@wearetwinxl) rides 'Good' vibes all the way to a new act for its career musicians. Will they play @BottleRockNapa next May? \\textbar{} @CameronWalker ✏: me https://t.co/vzwVk2aIQx                                                                                                          & ⋯                                                                                                                                                                                                                                                                                                                  & everyone                                                                                                                                                                                                                                                                                                           & 19                                                                                                                                                                                                                                                                                                                 & 7                                                                                                                                                                                                                                                                                                                  & 25                                                                                                                                                                                                                                                                                                                 & 2020                                                                                                                                                                                                                                                                                                               & interview  twin xl  wearetwinxl  ride  good  vibe way new act career musician  play  next may    cameronwalker                                                                                                                                                                                                     & 1                                                                                                                                                                                                                                                                                                                  & 3                                                                                                                                                                                                                                                                                                                  & 0                                                                                                                                                                                                                                                                                                                  & 6.201538                                                                                                                                                                                                                                                                                                          \\\\\n",
       "\t 3                                                                                                                                                                                                                                                                                                        & 1.044741e+18                                                                                                                                                                                                                                                                                             & 2020-07-25 17:56:38                                                                                                                                                                                                                                                                                      & 0                                                                                                                                                                                                                                                                                                        & 0                                                                                                                                                                                                                                                                                                        & 0                                                                                                                                                                                                                                                                                                        & 0                                                                                                                                                                                                                                                                                                        & 'BottleRockNapa', 'ChiliPeppers'                                                                                                                                                                                                                                                                         & 1.287084e+18                                                                                                                                                                                                                                                                                             & @BottleRockNapa @ChiliPeppers Talento BRASILEIRO...♥️🎶\n",
       "\n",
       " https://t.co/iKDy7JwN57                                                                                                                                                                                                                        & ⋯                                                                                                                                                                                                                                                                                                        & everyone                                                                                                                                                                                                                                                                                                 & 17                                                                                                                                                                                                                                                                                                       & 7                                                                                                                                                                                                                                                                                                        & 25                                                                                                                                                                                                                                                                                                       & 2020                                                                                                                                                                                                                                                                                                     & chilipeppers talento brasileiro                                                                                                                                                                                                                                                                          & 0                                                                                                                                                                                                                                                                                                        & 2                                                                                                                                                                                                                                                                                                        & 0                                                                                                                                                                                                                                                                                                        & 6.243247                                                                                                                                                                                                                                                                                                \\\\\n",
       "\t 4                                                                                                                                                                                                                                                                                                        & 1.760610e+07                                                                                                                                                                                                                                                                                             & 2020-07-25 05:30:49                                                                                                                                                                                                                                                                                      & 0                                                                                                                                                                                                                                                                                                        & 0                                                                                                                                                                                                                                                                                                        & 1                                                                                                                                                                                                                                                                                                        & 0                                                                                                                                                                                                                                                                                                        & 'BottleRockNapa', 'NRateliff', 'SantanaCarlos'                                                                                                                                                                                                                                                           & 1.286897e+18                                                                                                                                                                                                                                                                                             & @BottleRockNapa @NRateliff @SantanaCarlos Loved it! ❤                                                                                                                                                                                                                                                    & ⋯                                                                                                                                                                                                                                                                                                        & everyone                                                                                                                                                                                                                                                                                                 &  5                                                                                                                                                                                                                                                                                                       & 7                                                                                                                                                                                                                                                                                                        & 25                                                                                                                                                                                                                                                                                                       & 2020                                                                                                                                                                                                                                                                                                     & nrateliff  santanacarlos loved                                                                                                                                                                                                                                                                           & 1                                                                                                                                                                                                                                                                                                        & 3                                                                                                                                                                                                                                                                                                        & 0                                                                                                                                                                                                                                                                                                        & 7.960000                                                                                                                                                                                                                                                                                                \\\\\n",
       "\t 5                                                                                                                                                                                                                                                                                                        & 7.685055e+08                                                                                                                                                                                                                                                                                             & 2020-07-25 04:37:25                                                                                                                                                                                                                                                                                      & 0                                                                                                                                                                                                                                                                                                        & 1                                                                                                                                                                                                                                                                                                        & 1                                                                                                                                                                                                                                                                                                        & 0                                                                                                                                                                                                                                                                                                        & 'BottleRockNapa', 'LiveNation'                                                                                                                                                                                                                                                                           & 1.286883e+18                                                                                                                                                                                                                                                                                             & @BottleRockNapa So sad to see this end. Has been a weekly positive end to many stressful work weeks. I have enjoyed my favorites and new fan to several groups. @LiveNation I hope we can continue this in some other format. Music uplifts the soul during these dark hours. Thanks to all the artists! & ⋯                                                                                                                                                                                                                                                                                                        & everyone                                                                                                                                                                                                                                                                                                 &  4                                                                                                                                                                                                                                                                                                       & 7                                                                                                                                                                                                                                                                                                        & 25                                                                                                                                                                                                                                                                                                       & 2020                                                                                                                                                                                                                                                                                                     & sad see end  weekly positive end many stressful work week  enjoyed favorite new fan several group   livenation hope continue format  music uplift soul dark hour  thanks artist                                                                                                                          & 2                                                                                                                                                                                                                                                                                                        & 2                                                                                                                                                                                                                                                                                                        & 0                                                                                                                                                                                                                                                                                                        & 5.952500                                                                                                                                                                                                                                                                                                \\\\\n",
       "\\end{tabular}\n"
      ],
      "text/markdown": [
       "\n",
       "X1 | author_id | created_at | retweets_nr | reply_nr | like_nr | quote_nr | mentions_usernames | id | text | ⋯ | reply_settings | hour | month | day | year | textCleanLem | Score | Handle_Count | Hashtag_Count | avg_score | \n",
       "|---|---|---|---|---|---|\n",
       "| 0                                                                                                                                                                                                                                                                                                        | 2.012324e+07                                                                                                                                                                                                                                                                                             | 2020-07-27 13:50:12                                                                                                                                                                                                                                                                                      | 0                                                                                                                                                                                                                                                                                                        | 0                                                                                                                                                                                                                                                                                                        | 0                                                                                                                                                                                                                                                                                                        | 0                                                                                                                                                                                                                                                                                                        | 'BottleRockNapa', 'JaMCellars', 'ElleKingMusic'                                                                                                                                                                                                                                                          | 1.287747e+18                                                                                                                                                                                                                                                                                             | @BottleRockNapa @JaMCellars @ElleKingMusic Why did you cut Santana down to a 2 song set (slight exaggeration)? At least Muse didn't get edited.                                                                                                                                                          | ⋯                                                                                                                                                                                                                                                                                                        | everyone                                                                                                                                                                                                                                                                                                 | 13                                                                                                                                                                                                                                                                                                       | 7                                                                                                                                                                                                                                                                                                        | 27                                                                                                                                                                                                                                                                                                       | 2020                                                                                                                                                                                                                                                                                                     | jamcellars  ellekingmusic cut santana  song set  slight exaggeration  least muse  get edited                                                                                                                                                                                                             | 0                                                                                                                                                                                                                                                                                                        | 3                                                                                                                                                                                                                                                                                                        | 0                                                                                                                                                                                                                                                                                                        | 5.205714                                                                                                                                                                                                                                                                                                 | \n",
       "| 1                                                                                                                                                                                                                                                                                                        | 2.358610e+09                                                                                                                                                                                                                                                                                             | 2020-07-25 21:07:09                                                                                                                                                                                                                                                                                      | 0                                                                                                                                                                                                                                                                                                        | 0                                                                                                                                                                                                                                                                                                        | 1                                                                                                                                                                                                                                                                                                        | 0                                                                                                                                                                                                                                                                                                        | 'BottleRockNapa', 'JaMCellars', 'ElleKingMusic'                                                                                                                                                                                                                                                          | 1.287132e+18                                                                                                                                                                                                                                                                                             | @BottleRockNapa @JaMCellars @ElleKingMusic I was there her set was peppered with some heavy rockabilly vibes fantastic                                                                                                                                                                                   | ⋯                                                                                                                                                                                                                                                                                                        | everyone                                                                                                                                                                                                                                                                                                 | 21                                                                                                                                                                                                                                                                                                       | 7                                                                                                                                                                                                                                                                                                        | 25                                                                                                                                                                                                                                                                                                       | 2020                                                                                                                                                                                                                                                                                                     | jamcellars  ellekingmusic set peppered heavy rockabilly vibe fantastic                                                                                                                                                                                                                                   | 1                                                                                                                                                                                                                                                                                                        | 3                                                                                                                                                                                                                                                                                                        | 0                                                                                                                                                                                                                                                                                                        | 5.870000                                                                                                                                                                                                                                                                                                 | \n",
       "| 2                                                                                                                                                                                                                                                                                                        | 5.931166e+07                                                                                                                                                                                                                                                                                             | 2020-07-25 19:30:00                                                                                                                                                                                                                                                                                      | 0                                                                                                                                                                                                                                                                                                        | 0                                                                                                                                                                                                                                                                                                        | 1                                                                                                                                                                                                                                                                                                        | 0                                                                                                                                                                                                                                                                                                        | 'wearetwinxl', 'BottleRockNapa', 'CameronWalker'                                                                                                                                                                                                                                                         | 1.287108e+18                                                                                                                                                                                                                                                                                             | INTERVIEW: Twin XL (@wearetwinxl) rides 'Good' vibes all the way to a new act for its career musicians. Will they play @BottleRockNapa next May? | @CameronWalker ✏: me https://t.co/vzwVk2aIQx                                                                                                          | ⋯                                                                                                                                                                                                                                                                                                        | everyone                                                                                                                                                                                                                                                                                                 | 19                                                                                                                                                                                                                                                                                                       | 7                                                                                                                                                                                                                                                                                                        | 25                                                                                                                                                                                                                                                                                                       | 2020                                                                                                                                                                                                                                                                                                     | interview  twin xl  wearetwinxl  ride  good  vibe way new act career musician  play  next may    cameronwalker                                                                                                                                                                                           | 1                                                                                                                                                                                                                                                                                                        | 3                                                                                                                                                                                                                                                                                                        | 0                                                                                                                                                                                                                                                                                                        | 6.201538                                                                                                                                                                                                                                                                                                 | \n",
       "| 3                                                                                                                                                                                                                                                                                                        | 1.044741e+18                                                                                                                                                                                                                                                                                             | 2020-07-25 17:56:38                                                                                                                                                                                                                                                                                      | 0                                                                                                                                                                                                                                                                                                        | 0                                                                                                                                                                                                                                                                                                        | 0                                                                                                                                                                                                                                                                                                        | 0                                                                                                                                                                                                                                                                                                        | 'BottleRockNapa', 'ChiliPeppers'                                                                                                                                                                                                                                                                         | 1.287084e+18                                                                                                                                                                                                                                                                                             | @BottleRockNapa @ChiliPeppers Talento BRASILEIRO...♥️🎶\n",
       "\n",
       " https://t.co/iKDy7JwN57                                                                                                                                                                                                                        | ⋯                                                                                                                                                                                                                                                                                                        | everyone                                                                                                                                                                                                                                                                                                 | 17                                                                                                                                                                                                                                                                                                       | 7                                                                                                                                                                                                                                                                                                        | 25                                                                                                                                                                                                                                                                                                       | 2020                                                                                                                                                                                                                                                                                                     | chilipeppers talento brasileiro                                                                                                                                                                                                                                                                          | 0                                                                                                                                                                                                                                                                                                        | 2                                                                                                                                                                                                                                                                                                        | 0                                                                                                                                                                                                                                                                                                        | 6.243247                                                                                                                                                                                                                                                                                                 | \n",
       "| 4                                                                                                                                                                                                                                                                                                        | 1.760610e+07                                                                                                                                                                                                                                                                                             | 2020-07-25 05:30:49                                                                                                                                                                                                                                                                                      | 0                                                                                                                                                                                                                                                                                                        | 0                                                                                                                                                                                                                                                                                                        | 1                                                                                                                                                                                                                                                                                                        | 0                                                                                                                                                                                                                                                                                                        | 'BottleRockNapa', 'NRateliff', 'SantanaCarlos'                                                                                                                                                                                                                                                           | 1.286897e+18                                                                                                                                                                                                                                                                                             | @BottleRockNapa @NRateliff @SantanaCarlos Loved it! ❤                                                                                                                                                                                                                                                    | ⋯                                                                                                                                                                                                                                                                                                        | everyone                                                                                                                                                                                                                                                                                                 |  5                                                                                                                                                                                                                                                                                                       | 7                                                                                                                                                                                                                                                                                                        | 25                                                                                                                                                                                                                                                                                                       | 2020                                                                                                                                                                                                                                                                                                     | nrateliff  santanacarlos loved                                                                                                                                                                                                                                                                           | 1                                                                                                                                                                                                                                                                                                        | 3                                                                                                                                                                                                                                                                                                        | 0                                                                                                                                                                                                                                                                                                        | 7.960000                                                                                                                                                                                                                                                                                                 | \n",
       "| 5                                                                                                                                                                                                                                                                                                        | 7.685055e+08                                                                                                                                                                                                                                                                                             | 2020-07-25 04:37:25                                                                                                                                                                                                                                                                                      | 0                                                                                                                                                                                                                                                                                                        | 1                                                                                                                                                                                                                                                                                                        | 1                                                                                                                                                                                                                                                                                                        | 0                                                                                                                                                                                                                                                                                                        | 'BottleRockNapa', 'LiveNation'                                                                                                                                                                                                                                                                           | 1.286883e+18                                                                                                                                                                                                                                                                                             | @BottleRockNapa So sad to see this end. Has been a weekly positive end to many stressful work weeks. I have enjoyed my favorites and new fan to several groups. @LiveNation I hope we can continue this in some other format. Music uplifts the soul during these dark hours. Thanks to all the artists! | ⋯                                                                                                                                                                                                                                                                                                        | everyone                                                                                                                                                                                                                                                                                                 |  4                                                                                                                                                                                                                                                                                                       | 7                                                                                                                                                                                                                                                                                                        | 25                                                                                                                                                                                                                                                                                                       | 2020                                                                                                                                                                                                                                                                                                     | sad see end  weekly positive end many stressful work week  enjoyed favorite new fan several group   livenation hope continue format  music uplift soul dark hour  thanks artist                                                                                                                          | 2                                                                                                                                                                                                                                                                                                        | 2                                                                                                                                                                                                                                                                                                        | 0                                                                                                                                                                                                                                                                                                        | 5.952500                                                                                                                                                                                                                                                                                                 | \n",
       "\n",
       "\n"
      ],
      "text/plain": [
       "  X1 author_id    created_at          retweets_nr reply_nr like_nr quote_nr\n",
       "1 0  2.012324e+07 2020-07-27 13:50:12 0           0        0       0       \n",
       "2 1  2.358610e+09 2020-07-25 21:07:09 0           0        1       0       \n",
       "3 2  5.931166e+07 2020-07-25 19:30:00 0           0        1       0       \n",
       "4 3  1.044741e+18 2020-07-25 17:56:38 0           0        0       0       \n",
       "5 4  1.760610e+07 2020-07-25 05:30:49 0           0        1       0       \n",
       "6 5  7.685055e+08 2020-07-25 04:37:25 0           1        1       0       \n",
       "  mentions_usernames                               id          \n",
       "1 'BottleRockNapa', 'JaMCellars', 'ElleKingMusic'  1.287747e+18\n",
       "2 'BottleRockNapa', 'JaMCellars', 'ElleKingMusic'  1.287132e+18\n",
       "3 'wearetwinxl', 'BottleRockNapa', 'CameronWalker' 1.287108e+18\n",
       "4 'BottleRockNapa', 'ChiliPeppers'                 1.287084e+18\n",
       "5 'BottleRockNapa', 'NRateliff', 'SantanaCarlos'   1.286897e+18\n",
       "6 'BottleRockNapa', 'LiveNation'                   1.286883e+18\n",
       "  text                                                                                                                                                                                                                                                                                                    \n",
       "1 @BottleRockNapa @JaMCellars @ElleKingMusic Why did you cut Santana down to a 2 song set (slight exaggeration)? At least Muse didn't get edited.                                                                                                                                                         \n",
       "2 @BottleRockNapa @JaMCellars @ElleKingMusic I was there her set was peppered with some heavy rockabilly vibes fantastic                                                                                                                                                                                  \n",
       "3 INTERVIEW: Twin XL (@wearetwinxl) rides 'Good' vibes all the way to a new act for its career musicians. Will they play @BottleRockNapa next May? | @CameronWalker ✏: me https://t.co/vzwVk2aIQx                                                                                                         \n",
       "4 @BottleRockNapa @ChiliPeppers Talento BRASILEIRO...♥️🎶\\n\\n https://t.co/iKDy7JwN57                                                                                                                                                                                                                       \n",
       "5 @BottleRockNapa @NRateliff @SantanaCarlos Loved it! ❤                                                                                                                                                                                                                                                   \n",
       "6 @BottleRockNapa So sad to see this end. Has been a weekly positive end to many stressful work weeks. I have enjoyed my favorites and new fan to several groups. @LiveNation I hope we can continue this in some other format. Music uplifts the soul during these dark hours. Thanks to all the artists!\n",
       "  ⋯ reply_settings hour month day year\n",
       "1 ⋯ everyone       13   7     27  2020\n",
       "2 ⋯ everyone       21   7     25  2020\n",
       "3 ⋯ everyone       19   7     25  2020\n",
       "4 ⋯ everyone       17   7     25  2020\n",
       "5 ⋯ everyone        5   7     25  2020\n",
       "6 ⋯ everyone        4   7     25  2020\n",
       "  textCleanLem                                                                                                                                                                   \n",
       "1 jamcellars  ellekingmusic cut santana  song set  slight exaggeration  least muse  get edited                                                                                   \n",
       "2 jamcellars  ellekingmusic set peppered heavy rockabilly vibe fantastic                                                                                                         \n",
       "3 interview  twin xl  wearetwinxl  ride  good  vibe way new act career musician  play  next may    cameronwalker                                                                 \n",
       "4 chilipeppers talento brasileiro                                                                                                                                                \n",
       "5 nrateliff  santanacarlos loved                                                                                                                                                 \n",
       "6 sad see end  weekly positive end many stressful work week  enjoyed favorite new fan several group   livenation hope continue format  music uplift soul dark hour  thanks artist\n",
       "  Score Handle_Count Hashtag_Count avg_score\n",
       "1 0     3            0             5.205714 \n",
       "2 1     3            0             5.870000 \n",
       "3 1     3            0             6.201538 \n",
       "4 0     2            0             6.243247 \n",
       "5 1     3            0             7.960000 \n",
       "6 2     2            0             5.952500 "
      ]
     },
     "metadata": {},
     "output_type": "display_data"
    }
   ],
   "source": [
    "head(train.df)"
   ]
  },
  {
   "cell_type": "code",
   "execution_count": null,
   "metadata": {
    "collapsed": true,
    "deletable": true,
    "editable": true
   },
   "outputs": [],
   "source": [
    "# 3.3. Data Splitting"
   ]
  },
  {
   "cell_type": "code",
   "execution_count": 9,
   "metadata": {
    "collapsed": true,
    "deletable": true,
    "editable": true
   },
   "outputs": [],
   "source": [
    "\n",
    "# Split data.\n",
    "set.seed(201) \n",
    "small.train.df <- train.df[sample(nrow(train.df), 0.75 * nrow(train.df)) ,]\n",
    "valid.df <- train.df[-as.numeric(row.names(small.train.df)), ]\n"
   ]
  },
  {
   "cell_type": "code",
   "execution_count": 10,
   "metadata": {
    "collapsed": true,
    "deletable": true,
    "editable": true
   },
   "outputs": [],
   "source": [
    "# Pull apart the Xs and Ys into separate frames.\n",
    "xtrain <- small.train.df[ , -c(4,5,6,7,19)]\n",
    "xvalid <- valid.df[ , -c(4,5,6,7,19)]\n",
    "ytrain <- small.train.df[ , 19]\n",
    "yvalid <- valid.df[ , 19]\n"
   ]
  },
  {
   "cell_type": "code",
   "execution_count": 11,
   "metadata": {
    "collapsed": false,
    "deletable": true,
    "editable": true
   },
   "outputs": [
    {
     "data": {
      "text/plain": [
       "   Min. 1st Qu.  Median    Mean 3rd Qu.    Max. \n",
       "  0.000   0.000   0.000   1.065   1.000 102.000 "
      ]
     },
     "metadata": {},
     "output_type": "display_data"
    }
   ],
   "source": [
    "\n",
    "# Highly skewed data\n",
    "summary(train.df$Score)\n"
   ]
  },
  {
   "cell_type": "code",
   "execution_count": 12,
   "metadata": {
    "collapsed": false,
    "deletable": true,
    "editable": true
   },
   "outputs": [
    {
     "data": {
      "text/html": [
       "0.718095238095238"
      ],
      "text/latex": [
       "0.718095238095238"
      ],
      "text/markdown": [
       "0.718095238095238"
      ],
      "text/plain": [
       "[1] 0.7180952"
      ]
     },
     "metadata": {},
     "output_type": "display_data"
    }
   ],
   "source": [
    "\n",
    "# Calculate the percentage of the tweets that have 0 retweets.\n",
    "length(which(train.df$Score == 0))/length(train.df$Score)\n"
   ]
  },
  {
   "cell_type": "code",
   "execution_count": null,
   "metadata": {
    "collapsed": true,
    "deletable": true,
    "editable": true
   },
   "outputs": [],
   "source": [
    "# create the test set"
   ]
  },
  {
   "cell_type": "code",
   "execution_count": 1,
   "metadata": {
    "collapsed": true,
    "deletable": true,
    "editable": true
   },
   "outputs": [],
   "source": [
    "# Option 1:\n",
    "xtest_1 <- data.frame(hour=21,month=8,Handle_Count=6,Hashtag_Count=1,avg_score=5.896) #good+bad\n",
    "\n",
    "# Option 2:\n",
    "xtest_2 <- data.frame(hour=14,month=7,Handle_Count=6,Hashtag_Count=1,avg_score=5.896) #good+good\n",
    "\n",
    "# Option 3:\n",
    "xtest_3 <- data.frame(hour=21,month=8,Handle_Count=2,Hashtag_Count=2,avg_score=6.011 ) #bad+bad\n",
    "\n",
    "# Option 4:\n",
    "xtest_4 <- data.frame(hour=14,month=7,Handle_Count=2,Hashtag_Count=2,avg_score=6.011 )#bad + good"
   ]
  },
  {
   "cell_type": "code",
   "execution_count": 2,
   "metadata": {
    "collapsed": false,
    "deletable": true,
    "editable": true
   },
   "outputs": [
    {
     "data": {
      "text/html": [
       "<table>\n",
       "<thead><tr><th scope=col>hour</th><th scope=col>month</th><th scope=col>Handle_Count</th><th scope=col>Hashtag_Count</th><th scope=col>avg_score</th></tr></thead>\n",
       "<tbody>\n",
       "\t<tr><td>21   </td><td>8    </td><td>6    </td><td>1    </td><td>5.896</td></tr>\n",
       "\t<tr><td>14   </td><td>7    </td><td>6    </td><td>1    </td><td>5.896</td></tr>\n",
       "\t<tr><td>21   </td><td>8    </td><td>2    </td><td>2    </td><td>6.011</td></tr>\n",
       "\t<tr><td>14   </td><td>7    </td><td>2    </td><td>2    </td><td>6.011</td></tr>\n",
       "</tbody>\n",
       "</table>\n"
      ],
      "text/latex": [
       "\\begin{tabular}{r|lllll}\n",
       " hour & month & Handle\\_Count & Hashtag\\_Count & avg\\_score\\\\\n",
       "\\hline\n",
       "\t 21    & 8     & 6     & 1     & 5.896\\\\\n",
       "\t 14    & 7     & 6     & 1     & 5.896\\\\\n",
       "\t 21    & 8     & 2     & 2     & 6.011\\\\\n",
       "\t 14    & 7     & 2     & 2     & 6.011\\\\\n",
       "\\end{tabular}\n"
      ],
      "text/markdown": [
       "\n",
       "hour | month | Handle_Count | Hashtag_Count | avg_score | \n",
       "|---|---|---|---|\n",
       "| 21    | 8     | 6     | 1     | 5.896 | \n",
       "| 14    | 7     | 6     | 1     | 5.896 | \n",
       "| 21    | 8     | 2     | 2     | 6.011 | \n",
       "| 14    | 7     | 2     | 2     | 6.011 | \n",
       "\n",
       "\n"
      ],
      "text/plain": [
       "  hour month Handle_Count Hashtag_Count avg_score\n",
       "1 21   8     6            1             5.896    \n",
       "2 14   7     6            1             5.896    \n",
       "3 21   8     2            2             6.011    \n",
       "4 14   7     2            2             6.011    "
      ]
     },
     "metadata": {},
     "output_type": "display_data"
    }
   ],
   "source": [
    "xtest <- rbind(xtest_1, xtest_2, xtest_3, xtest_4)\n",
    "xtest"
   ]
  },
  {
   "cell_type": "code",
   "execution_count": null,
   "metadata": {
    "collapsed": true,
    "deletable": true,
    "editable": true
   },
   "outputs": [],
   "source": [
    "################################### SECTION 4: PREDICTION MODELS ###########################################"
   ]
  },
  {
   "cell_type": "code",
   "execution_count": null,
   "metadata": {
    "collapsed": true,
    "deletable": true,
    "editable": true
   },
   "outputs": [],
   "source": [
    "# Root Mean Squared Logarithmic Error (RMSLE)\n",
    "RMSLE <- function(predictions, realizations){\n",
    "    sqrt(sum((log(predictions+1) - log(realizations+1))^2)/length(predictions))\n",
    "}"
   ]
  },
  {
   "cell_type": "code",
   "execution_count": 13,
   "metadata": {
    "collapsed": true,
    "deletable": true,
    "editable": true
   },
   "outputs": [],
   "source": [
    "# 4.1. Linear Regression\n",
    "# Select variables.\n",
    "# hour, month, handle_count, hashtag_count, happines_score\n",
    "variablesSelected <- c(10,11,15,16,17)  "
   ]
  },
  {
   "cell_type": "code",
   "execution_count": 14,
   "metadata": {
    "collapsed": false,
    "deletable": true,
    "editable": true
   },
   "outputs": [
    {
     "data": {
      "text/plain": [
       "\n",
       "Call:\n",
       "lm(formula = log(1 + ytrain) ~ ., data = xtrain[, variablesSelected])\n",
       "\n",
       "Residuals:\n",
       "    Min      1Q  Median      3Q     Max \n",
       "-0.9406 -0.2445 -0.1758  0.0919  3.8302 \n",
       "\n",
       "Coefficients:\n",
       "               Estimate Std. Error t value Pr(>|t|)    \n",
       "(Intercept)    0.194189   0.481704   0.403 0.687076    \n",
       "hour           0.007405   0.004157   1.781 0.075662 .  \n",
       "month          0.033873   0.008803   3.848 0.000139 ***\n",
       "Handle_Count   0.027636   0.011280   2.450 0.014726 *  \n",
       "Hashtag_Count -0.071340   0.017699  -4.031  6.7e-05 ***\n",
       "avg_score     -0.022806   0.077524  -0.294 0.768775    \n",
       "---\n",
       "Signif. codes:  0 ‘***’ 0.001 ‘**’ 0.01 ‘*’ 0.05 ‘.’ 0.1 ‘ ’ 1\n",
       "\n",
       "Residual standard error: 0.5658 on 387 degrees of freedom\n",
       "Multiple R-squared:  0.1241,\tAdjusted R-squared:  0.1128 \n",
       "F-statistic: 10.97 on 5 and 387 DF,  p-value: 6.923e-10\n"
      ]
     },
     "metadata": {},
     "output_type": "display_data"
    }
   ],
   "source": [
    "# Fit the linear regression\n",
    "lm.1 <- lm(log(1 + ytrain) ~ ., data = xtrain[, variablesSelected])\n",
    "summary(lm.1)"
   ]
  },
  {
   "cell_type": "code",
   "execution_count": 15,
   "metadata": {
    "collapsed": false,
    "deletable": true,
    "editable": true
   },
   "outputs": [
    {
     "data": {
      "text/html": [
       "0.597412612110352"
      ],
      "text/latex": [
       "0.597412612110352"
      ],
      "text/markdown": [
       "0.597412612110352"
      ],
      "text/plain": [
       "[1] 0.5974126"
      ]
     },
     "metadata": {},
     "output_type": "display_data"
    }
   ],
   "source": [
    "lm.1.pred <- predict(lm.1, xvalid)\n",
    "\n",
    "lm.1.pred.unlogged <- exp(lm.1.pred) - 1  # Unlog the y variable.\n",
    "RMSLE(lm.1.pred.unlogged, yvalid)  #Score the lm model."
   ]
  },
  {
   "cell_type": "code",
   "execution_count": 16,
   "metadata": {
    "collapsed": false,
    "deletable": true,
    "editable": true
   },
   "outputs": [],
   "source": [
    "\n",
    "# The code below saves the results in a data frame model.results so that \n",
    "# we can show and compare the error rates for all the models later.\n",
    "\n",
    "model.results <- data.frame(RMSLE=0.597412612110352, Model=\"linear_regression1\")\n"
   ]
  },
  {
   "cell_type": "code",
   "execution_count": 17,
   "metadata": {
    "collapsed": false,
    "deletable": true,
    "editable": true
   },
   "outputs": [
    {
     "data": {
      "text/plain": [
       "\n",
       "Call:\n",
       "lm(formula = log(1 + ytrain) ~ . + .^2, data = xtrain[, variablesSelected])\n",
       "\n",
       "Residuals:\n",
       "    Min      1Q  Median      3Q     Max \n",
       "-0.9345 -0.1823 -0.1584  0.0713  3.8547 \n",
       "\n",
       "Coefficients:\n",
       "                            Estimate Std. Error t value Pr(>|t|)   \n",
       "(Intercept)                -0.369329   1.535120  -0.241  0.81001   \n",
       "hour                       -0.068520   0.067091  -1.021  0.30777   \n",
       "month                       0.441676   0.154278   2.863  0.00443 **\n",
       "Handle_Count               -0.532607   0.179109  -2.974  0.00313 **\n",
       "Hashtag_Count              -0.309340   0.293503  -1.054  0.29258   \n",
       "avg_score                   0.038319   0.250366   0.153  0.87844   \n",
       "hour:month                  0.001298   0.001231   1.055  0.29232   \n",
       "hour:Handle_Count           0.001588   0.001765   0.900  0.36886   \n",
       "hour:Hashtag_Count         -0.004808   0.002733  -1.759  0.07935 . \n",
       "hour:avg_score              0.011553   0.010945   1.056  0.29186   \n",
       "month:Handle_Count         -0.006717   0.003103  -2.165  0.03103 * \n",
       "month:Hashtag_Count        -0.010258   0.005937  -1.728  0.08484 . \n",
       "month:avg_score            -0.064359   0.024687  -2.607  0.00949 **\n",
       "Handle_Count:Hashtag_Count -0.002543   0.005926  -0.429  0.66812   \n",
       "Handle_Count:avg_score      0.100627   0.030786   3.269  0.00118 **\n",
       "Hashtag_Count:avg_score     0.058634   0.045694   1.283  0.20021   \n",
       "---\n",
       "Signif. codes:  0 ‘***’ 0.001 ‘**’ 0.01 ‘*’ 0.05 ‘.’ 0.1 ‘ ’ 1\n",
       "\n",
       "Residual standard error: 0.5463 on 377 degrees of freedom\n",
       "Multiple R-squared:  0.2042,\tAdjusted R-squared:  0.1726 \n",
       "F-statistic: 6.451 on 15 and 377 DF,  p-value: 2.796e-12\n"
      ]
     },
     "metadata": {},
     "output_type": "display_data"
    }
   ],
   "source": [
    "# Fit the linear regression with interaction\n",
    "lm.2 <- lm(log(1 + ytrain) ~ . + .^2, data = xtrain[, variablesSelected])\n",
    "summary(lm.2)\n"
   ]
  },
  {
   "cell_type": "code",
   "execution_count": 18,
   "metadata": {
    "collapsed": false,
    "deletable": true,
    "editable": true
   },
   "outputs": [
    {
     "data": {
      "text/html": [
       "0.58696948184094"
      ],
      "text/latex": [
       "0.58696948184094"
      ],
      "text/markdown": [
       "0.58696948184094"
      ],
      "text/plain": [
       "[1] 0.5869695"
      ]
     },
     "metadata": {},
     "output_type": "display_data"
    }
   ],
   "source": [
    "lm.2.pred <- predict(lm.2, xvalid)\n",
    "lm.2.pred.unlogged <- exp(lm.2.pred) - 1  # Unlog the y variable.\n",
    "RMSLE(lm.2.pred.unlogged, yvalid)  #Score the lm model."
   ]
  },
  {
   "cell_type": "code",
   "execution_count": 19,
   "metadata": {
    "collapsed": true,
    "deletable": true,
    "editable": true
   },
   "outputs": [],
   "source": [
    "# Save the results for later ...\n",
    "\n",
    "model.results <- rbind(model.results, data.frame( RMSLE = 0.58696948184094, Model=\"linear_regression_interaction\"))"
   ]
  },
  {
   "cell_type": "code",
   "execution_count": null,
   "metadata": {
    "collapsed": true,
    "deletable": true,
    "editable": true
   },
   "outputs": [],
   "source": [
    "# 4.2. XGBoost"
   ]
  },
  {
   "cell_type": "code",
   "execution_count": 20,
   "metadata": {
    "collapsed": false,
    "deletable": true,
    "editable": true
   },
   "outputs": [
    {
     "data": {
      "text/html": [
       "0.556433932153292"
      ],
      "text/latex": [
       "0.556433932153292"
      ],
      "text/markdown": [
       "0.556433932153292"
      ],
      "text/plain": [
       "[1] 0.5564339"
      ]
     },
     "metadata": {},
     "output_type": "display_data"
    }
   ],
   "source": [
    "# Create matrix for xgboost.\n",
    "xtrain.xgb <- model.matrix(~ 0 + ., data = xtrain[, variablesSelected])\n",
    "xvalid.xgb <- model.matrix(~ 0 + ., data = xvalid[, variablesSelected])\n",
    "\n",
    "# Fit the xgboost model\n",
    "model.xgb <- xgboost(xtrain.xgb, log(ytrain+1), nround = 50, verbose = 0, nthred = workers)  #nround=50 (0.556433932153292), \n",
    "                                                                                                    #=100(0.557719466805755)\n",
    "                                                                                            #=75 (0.557078972676131)\n",
    "                                                                               #=40  (0.55689691697435)\n",
    "\n",
    "# Generate predictions\n",
    "xgb.pred <- predict(model.xgb, xvalid.xgb)\n",
    "xgb.pred.unlogged <- exp(xgb.pred) - 1  # Unlog the y variable.\n",
    "\n",
    "# Score the predictions.\n",
    "RMSLE(xgb.pred.unlogged, yvalid)  #Score the model."
   ]
  },
  {
   "cell_type": "code",
   "execution_count": 21,
   "metadata": {
    "collapsed": true,
    "deletable": true,
    "editable": true
   },
   "outputs": [],
   "source": [
    "# Save the results for later ...\n",
    "\n",
    "model.results <- rbind(model.results, data.frame( RMSLE = 0.556433932153292, Model=\"xgboost1\"))"
   ]
  },
  {
   "cell_type": "code",
   "execution_count": 22,
   "metadata": {
    "collapsed": false,
    "deletable": true,
    "editable": true
   },
   "outputs": [
    {
     "data": {
      "text/html": [
       "<table>\n",
       "<thead><tr><th scope=col>Feature</th><th scope=col>Gain</th><th scope=col>Cover</th><th scope=col>Frequency</th></tr></thead>\n",
       "<tbody>\n",
       "\t<tr><td>avg_score    </td><td>0.46013526   </td><td>0.51770550   </td><td>0.34021305   </td></tr>\n",
       "\t<tr><td>hour         </td><td>0.20192999   </td><td>0.21578368   </td><td>0.30559254   </td></tr>\n",
       "\t<tr><td>Handle_Count </td><td>0.16077300   </td><td>0.11037577   </td><td>0.11984021   </td></tr>\n",
       "\t<tr><td>month        </td><td>0.11511404   </td><td>0.10524461   </td><td>0.17376831   </td></tr>\n",
       "\t<tr><td>Hashtag_Count</td><td>0.06204771   </td><td>0.05089043   </td><td>0.06058589   </td></tr>\n",
       "</tbody>\n",
       "</table>\n"
      ],
      "text/latex": [
       "\\begin{tabular}{r|llll}\n",
       " Feature & Gain & Cover & Frequency\\\\\n",
       "\\hline\n",
       "\t avg\\_score     & 0.46013526      & 0.51770550      & 0.34021305     \\\\\n",
       "\t hour          & 0.20192999    & 0.21578368    & 0.30559254   \\\\\n",
       "\t Handle\\_Count  & 0.16077300      & 0.11037577      & 0.11984021     \\\\\n",
       "\t month         & 0.11511404    & 0.10524461    & 0.17376831   \\\\\n",
       "\t Hashtag\\_Count & 0.06204771      & 0.05089043      & 0.06058589     \\\\\n",
       "\\end{tabular}\n"
      ],
      "text/markdown": [
       "\n",
       "Feature | Gain | Cover | Frequency | \n",
       "|---|---|---|---|---|\n",
       "| avg_score     | 0.46013526    | 0.51770550    | 0.34021305    | \n",
       "| hour          | 0.20192999    | 0.21578368    | 0.30559254    | \n",
       "| Handle_Count  | 0.16077300    | 0.11037577    | 0.11984021    | \n",
       "| month         | 0.11511404    | 0.10524461    | 0.17376831    | \n",
       "| Hashtag_Count | 0.06204771    | 0.05089043    | 0.06058589    | \n",
       "\n",
       "\n"
      ],
      "text/plain": [
       "  Feature       Gain       Cover      Frequency \n",
       "1 avg_score     0.46013526 0.51770550 0.34021305\n",
       "2 hour          0.20192999 0.21578368 0.30559254\n",
       "3 Handle_Count  0.16077300 0.11037577 0.11984021\n",
       "4 month         0.11511404 0.10524461 0.17376831\n",
       "5 Hashtag_Count 0.06204771 0.05089043 0.06058589"
      ]
     },
     "metadata": {},
     "output_type": "display_data"
    },
    {
     "data": {
      "text/html": [
       "<ol class=list-inline>\n",
       "\t<li>'hour'</li>\n",
       "\t<li>'month'</li>\n",
       "\t<li>'Handle_Count'</li>\n",
       "\t<li>'Hashtag_Count'</li>\n",
       "\t<li>'avg_score'</li>\n",
       "</ol>\n"
      ],
      "text/latex": [
       "\\begin{enumerate*}\n",
       "\\item 'hour'\n",
       "\\item 'month'\n",
       "\\item 'Handle\\_Count'\n",
       "\\item 'Hashtag\\_Count'\n",
       "\\item 'avg\\_score'\n",
       "\\end{enumerate*}\n"
      ],
      "text/markdown": [
       "1. 'hour'\n",
       "2. 'month'\n",
       "3. 'Handle_Count'\n",
       "4. 'Hashtag_Count'\n",
       "5. 'avg_score'\n",
       "\n",
       "\n"
      ],
      "text/plain": [
       "[1] \"hour\"          \"month\"         \"Handle_Count\"  \"Hashtag_Count\"\n",
       "[5] \"avg_score\"    "
      ]
     },
     "metadata": {},
     "output_type": "display_data"
    }
   ],
   "source": [
    "# Print out the variale importance\n",
    "xgb.importance(colnames(xtrain[, variablesSelected]), model.xgb)\n",
    "colnames(xtrain.xgb)"
   ]
  },
  {
   "cell_type": "code",
   "execution_count": 23,
   "metadata": {
    "collapsed": false,
    "deletable": true,
    "editable": true
   },
   "outputs": [
    {
     "data": {
      "text/html": [
       "<table>\n",
       "<thead><tr><th></th><th scope=col>hour</th><th scope=col>month</th><th scope=col>Handle_Count</th><th scope=col>Hashtag_Count</th><th scope=col>avg_score</th></tr></thead>\n",
       "<tbody>\n",
       "\t<tr><th scope=row>322</th><td> 8      </td><td>12      </td><td> 1      </td><td>2       </td><td>6.417143</td></tr>\n",
       "\t<tr><th scope=row>88</th><td>19      </td><td> 8      </td><td> 1      </td><td>4       </td><td>6.608333</td></tr>\n",
       "\t<tr><th scope=row>192</th><td>13      </td><td> 9      </td><td> 2      </td><td>4       </td><td>6.593333</td></tr>\n",
       "\t<tr><th scope=row>21</th><td> 8      </td><td> 7      </td><td> 2      </td><td>0       </td><td>6.372500</td></tr>\n",
       "\t<tr><th scope=row>328</th><td>13      </td><td>12      </td><td> 4      </td><td>0       </td><td>5.247273</td></tr>\n",
       "\t<tr><th scope=row>73</th><td>19      </td><td> 8      </td><td> 1      </td><td>4       </td><td>6.608333</td></tr>\n",
       "\t<tr><th scope=row>24</th><td>19      </td><td> 7      </td><td> 1      </td><td>1       </td><td>6.095000</td></tr>\n",
       "\t<tr><th scope=row>191</th><td>16      </td><td> 9      </td><td> 2      </td><td>4       </td><td>6.593333</td></tr>\n",
       "\t<tr><th scope=row>52</th><td>23      </td><td> 8      </td><td> 2      </td><td>4       </td><td>6.593333</td></tr>\n",
       "\t<tr><th scope=row>149</th><td> 1      </td><td> 9      </td><td> 2      </td><td>4       </td><td>6.593333</td></tr>\n",
       "\t<tr><th scope=row>243</th><td> 4      </td><td>10      </td><td> 6      </td><td>0       </td><td>5.720000</td></tr>\n",
       "\t<tr><th scope=row>349</th><td> 5      </td><td> 1      </td><td>18      </td><td>8       </td><td>6.114286</td></tr>\n",
       "\t<tr><th scope=row>311</th><td>21      </td><td>11      </td><td> 3      </td><td>1       </td><td>4.616667</td></tr>\n",
       "\t<tr><th scope=row>242</th><td> 4      </td><td>10      </td><td> 2      </td><td>0       </td><td>6.306923</td></tr>\n",
       "\t<tr><th scope=row>267</th><td> 7      </td><td>11      </td><td> 3      </td><td>0       </td><td>5.856000</td></tr>\n",
       "\t<tr><th scope=row>266</th><td>21      </td><td>11      </td><td> 5      </td><td>0       </td><td>5.586154</td></tr>\n",
       "\t<tr><th scope=row>6</th><td> 4      </td><td> 7      </td><td> 2      </td><td>0       </td><td>5.952500</td></tr>\n",
       "\t<tr><th scope=row>133</th><td>20      </td><td> 9      </td><td> 2      </td><td>4       </td><td>6.593333</td></tr>\n",
       "\t<tr><th scope=row>292</th><td>19      </td><td>11      </td><td> 3      </td><td>0       </td><td>5.783333</td></tr>\n",
       "\t<tr><th scope=row>247</th><td>23      </td><td>10      </td><td> 1      </td><td>0       </td><td>5.420000</td></tr>\n",
       "\t<tr><th scope=row>382</th><td>19      </td><td> 3      </td><td> 2      </td><td>2       </td><td>6.170000</td></tr>\n",
       "\t<tr><th scope=row>302</th><td>19      </td><td>11      </td><td> 1      </td><td>1       </td><td>6.440000</td></tr>\n",
       "\t<tr><th scope=row>297</th><td>19      </td><td>11      </td><td> 3      </td><td>0       </td><td>5.624000</td></tr>\n",
       "\t<tr><th scope=row>316</th><td> 8      </td><td>12      </td><td> 2      </td><td>0       </td><td>6.336800</td></tr>\n",
       "\t<tr><th scope=row>329</th><td>20      </td><td>12      </td><td> 2      </td><td>0       </td><td>6.194545</td></tr>\n",
       "\t<tr><th scope=row>357</th><td>17      </td><td> 1      </td><td> 1      </td><td>0       </td><td>5.476667</td></tr>\n",
       "\t<tr><th scope=row>422</th><td> 3      </td><td> 3      </td><td> 2      </td><td>2       </td><td>6.170000</td></tr>\n",
       "\t<tr><th scope=row>254</th><td> 8      </td><td>11      </td><td> 2      </td><td>0       </td><td>6.368800</td></tr>\n",
       "\t<tr><th scope=row>129</th><td>14      </td><td> 9      </td><td> 4      </td><td>0       </td><td>6.243247</td></tr>\n",
       "\t<tr><th scope=row>216</th><td>15      </td><td> 9      </td><td> 2      </td><td>4       </td><td>6.593333</td></tr>\n",
       "\t<tr><th scope=row>⋮</th><td>⋮</td><td>⋮</td><td>⋮</td><td>⋮</td><td>⋮</td></tr>\n",
       "\t<tr><th scope=row>47</th><td>16      </td><td> 8      </td><td> 2      </td><td>4       </td><td>6.593333</td></tr>\n",
       "\t<tr><th scope=row>335</th><td> 7      </td><td>12      </td><td> 2      </td><td>0       </td><td>6.322400</td></tr>\n",
       "\t<tr><th scope=row>44</th><td>22      </td><td> 8      </td><td> 4      </td><td>0       </td><td>7.460000</td></tr>\n",
       "\t<tr><th scope=row>522</th><td>11      </td><td> 4      </td><td> 2      </td><td>2       </td><td>6.170000</td></tr>\n",
       "\t<tr><th scope=row>489</th><td> 3      </td><td> 4      </td><td> 2      </td><td>2       </td><td>6.170000</td></tr>\n",
       "\t<tr><th scope=row>106</th><td>18      </td><td> 8      </td><td> 1      </td><td>4       </td><td>6.608333</td></tr>\n",
       "\t<tr><th scope=row>78</th><td> 2      </td><td> 8      </td><td> 1      </td><td>4       </td><td>6.608333</td></tr>\n",
       "\t<tr><th scope=row>398</th><td>12      </td><td> 3      </td><td> 2      </td><td>2       </td><td>6.170000</td></tr>\n",
       "\t<tr><th scope=row>338</th><td> 6      </td><td>12      </td><td> 1      </td><td>0       </td><td>5.802000</td></tr>\n",
       "\t<tr><th scope=row>38</th><td> 0      </td><td> 8      </td><td> 2      </td><td>4       </td><td>6.593333</td></tr>\n",
       "\t<tr><th scope=row>71</th><td> 5      </td><td> 8      </td><td>10      </td><td>2       </td><td>5.778571</td></tr>\n",
       "\t<tr><th scope=row>179</th><td>17      </td><td> 9      </td><td> 2      </td><td>4       </td><td>6.593333</td></tr>\n",
       "\t<tr><th scope=row>213</th><td>12      </td><td> 9      </td><td> 2      </td><td>4       </td><td>6.593333</td></tr>\n",
       "\t<tr><th scope=row>365</th><td> 3      </td><td> 2      </td><td> 2      </td><td>1       </td><td>6.155385</td></tr>\n",
       "\t<tr><th scope=row>383</th><td>18      </td><td> 3      </td><td>12      </td><td>0       </td><td>5.477778</td></tr>\n",
       "\t<tr><th scope=row>226</th><td> 1      </td><td> 9      </td><td> 2      </td><td>4       </td><td>6.593333</td></tr>\n",
       "\t<tr><th scope=row>65</th><td>17      </td><td> 8      </td><td> 2      </td><td>4       </td><td>6.593333</td></tr>\n",
       "\t<tr><th scope=row>286</th><td>21      </td><td>11      </td><td> 1      </td><td>0       </td><td>5.735000</td></tr>\n",
       "\t<tr><th scope=row>288</th><td>20      </td><td>11      </td><td> 3      </td><td>0       </td><td>5.713333</td></tr>\n",
       "\t<tr><th scope=row>519</th><td>23      </td><td> 4      </td><td> 2      </td><td>2       </td><td>6.170000</td></tr>\n",
       "\t<tr><th scope=row>268</th><td> 3      </td><td>11      </td><td> 3      </td><td>0       </td><td>6.032000</td></tr>\n",
       "\t<tr><th scope=row>152</th><td> 4      </td><td> 9      </td><td> 2      </td><td>4       </td><td>6.593333</td></tr>\n",
       "\t<tr><th scope=row>283</th><td> 0      </td><td>11      </td><td> 2      </td><td>0       </td><td>6.680000</td></tr>\n",
       "\t<tr><th scope=row>488</th><td> 3      </td><td> 4      </td><td> 2      </td><td>2       </td><td>6.170000</td></tr>\n",
       "\t<tr><th scope=row>256</th><td> 8      </td><td>11      </td><td> 7      </td><td>0       </td><td>6.243247</td></tr>\n",
       "\t<tr><th scope=row>5</th><td> 5      </td><td> 7      </td><td> 3      </td><td>0       </td><td>7.960000</td></tr>\n",
       "\t<tr><th scope=row>176</th><td>17      </td><td> 9      </td><td> 2      </td><td>4       </td><td>6.593333</td></tr>\n",
       "\t<tr><th scope=row>219</th><td>20      </td><td> 9      </td><td> 2      </td><td>4       </td><td>6.593333</td></tr>\n",
       "\t<tr><th scope=row>194</th><td> 3      </td><td> 9      </td><td> 2      </td><td>4       </td><td>6.593333</td></tr>\n",
       "\t<tr><th scope=row>150</th><td>19      </td><td> 9      </td><td> 2      </td><td>4       </td><td>6.593333</td></tr>\n",
       "</tbody>\n",
       "</table>\n"
      ],
      "text/latex": [
       "\\begin{tabular}{r|lllll}\n",
       "  & hour & month & Handle\\_Count & Hashtag\\_Count & avg\\_score\\\\\n",
       "\\hline\n",
       "\t322 &  8       & 12       &  1       & 2        & 6.417143\\\\\n",
       "\t88 & 19       &  8       &  1       & 4        & 6.608333\\\\\n",
       "\t192 & 13       &  9       &  2       & 4        & 6.593333\\\\\n",
       "\t21 &  8       &  7       &  2       & 0        & 6.372500\\\\\n",
       "\t328 & 13       & 12       &  4       & 0        & 5.247273\\\\\n",
       "\t73 & 19       &  8       &  1       & 4        & 6.608333\\\\\n",
       "\t24 & 19       &  7       &  1       & 1        & 6.095000\\\\\n",
       "\t191 & 16       &  9       &  2       & 4        & 6.593333\\\\\n",
       "\t52 & 23       &  8       &  2       & 4        & 6.593333\\\\\n",
       "\t149 &  1       &  9       &  2       & 4        & 6.593333\\\\\n",
       "\t243 &  4       & 10       &  6       & 0        & 5.720000\\\\\n",
       "\t349 &  5       &  1       & 18       & 8        & 6.114286\\\\\n",
       "\t311 & 21       & 11       &  3       & 1        & 4.616667\\\\\n",
       "\t242 &  4       & 10       &  2       & 0        & 6.306923\\\\\n",
       "\t267 &  7       & 11       &  3       & 0        & 5.856000\\\\\n",
       "\t266 & 21       & 11       &  5       & 0        & 5.586154\\\\\n",
       "\t6 &  4       &  7       &  2       & 0        & 5.952500\\\\\n",
       "\t133 & 20       &  9       &  2       & 4        & 6.593333\\\\\n",
       "\t292 & 19       & 11       &  3       & 0        & 5.783333\\\\\n",
       "\t247 & 23       & 10       &  1       & 0        & 5.420000\\\\\n",
       "\t382 & 19       &  3       &  2       & 2        & 6.170000\\\\\n",
       "\t302 & 19       & 11       &  1       & 1        & 6.440000\\\\\n",
       "\t297 & 19       & 11       &  3       & 0        & 5.624000\\\\\n",
       "\t316 &  8       & 12       &  2       & 0        & 6.336800\\\\\n",
       "\t329 & 20       & 12       &  2       & 0        & 6.194545\\\\\n",
       "\t357 & 17       &  1       &  1       & 0        & 5.476667\\\\\n",
       "\t422 &  3       &  3       &  2       & 2        & 6.170000\\\\\n",
       "\t254 &  8       & 11       &  2       & 0        & 6.368800\\\\\n",
       "\t129 & 14       &  9       &  4       & 0        & 6.243247\\\\\n",
       "\t216 & 15       &  9       &  2       & 4        & 6.593333\\\\\n",
       "\t⋮ & ⋮ & ⋮ & ⋮ & ⋮ & ⋮\\\\\n",
       "\t47 & 16       &  8       &  2       & 4        & 6.593333\\\\\n",
       "\t335 &  7       & 12       &  2       & 0        & 6.322400\\\\\n",
       "\t44 & 22       &  8       &  4       & 0        & 7.460000\\\\\n",
       "\t522 & 11       &  4       &  2       & 2        & 6.170000\\\\\n",
       "\t489 &  3       &  4       &  2       & 2        & 6.170000\\\\\n",
       "\t106 & 18       &  8       &  1       & 4        & 6.608333\\\\\n",
       "\t78 &  2       &  8       &  1       & 4        & 6.608333\\\\\n",
       "\t398 & 12       &  3       &  2       & 2        & 6.170000\\\\\n",
       "\t338 &  6       & 12       &  1       & 0        & 5.802000\\\\\n",
       "\t38 &  0       &  8       &  2       & 4        & 6.593333\\\\\n",
       "\t71 &  5       &  8       & 10       & 2        & 5.778571\\\\\n",
       "\t179 & 17       &  9       &  2       & 4        & 6.593333\\\\\n",
       "\t213 & 12       &  9       &  2       & 4        & 6.593333\\\\\n",
       "\t365 &  3       &  2       &  2       & 1        & 6.155385\\\\\n",
       "\t383 & 18       &  3       & 12       & 0        & 5.477778\\\\\n",
       "\t226 &  1       &  9       &  2       & 4        & 6.593333\\\\\n",
       "\t65 & 17       &  8       &  2       & 4        & 6.593333\\\\\n",
       "\t286 & 21       & 11       &  1       & 0        & 5.735000\\\\\n",
       "\t288 & 20       & 11       &  3       & 0        & 5.713333\\\\\n",
       "\t519 & 23       &  4       &  2       & 2        & 6.170000\\\\\n",
       "\t268 &  3       & 11       &  3       & 0        & 6.032000\\\\\n",
       "\t152 &  4       &  9       &  2       & 4        & 6.593333\\\\\n",
       "\t283 &  0       & 11       &  2       & 0        & 6.680000\\\\\n",
       "\t488 &  3       &  4       &  2       & 2        & 6.170000\\\\\n",
       "\t256 &  8       & 11       &  7       & 0        & 6.243247\\\\\n",
       "\t5 &  5       &  7       &  3       & 0        & 7.960000\\\\\n",
       "\t176 & 17       &  9       &  2       & 4        & 6.593333\\\\\n",
       "\t219 & 20       &  9       &  2       & 4        & 6.593333\\\\\n",
       "\t194 &  3       &  9       &  2       & 4        & 6.593333\\\\\n",
       "\t150 & 19       &  9       &  2       & 4        & 6.593333\\\\\n",
       "\\end{tabular}\n"
      ],
      "text/markdown": [
       "\n",
       "| <!--/--> | hour | month | Handle_Count | Hashtag_Count | avg_score | \n",
       "|---|---|---|---|---|---|---|---|---|---|---|---|---|---|---|---|---|---|---|---|---|---|---|---|---|---|---|---|---|---|---|---|---|---|---|---|---|---|---|---|---|---|---|---|---|---|---|---|---|---|---|---|---|---|---|---|---|---|---|---|---|\n",
       "| 322 |  8       | 12       |  1       | 2        | 6.417143 | \n",
       "| 88 | 19       |  8       |  1       | 4        | 6.608333 | \n",
       "| 192 | 13       |  9       |  2       | 4        | 6.593333 | \n",
       "| 21 |  8       |  7       |  2       | 0        | 6.372500 | \n",
       "| 328 | 13       | 12       |  4       | 0        | 5.247273 | \n",
       "| 73 | 19       |  8       |  1       | 4        | 6.608333 | \n",
       "| 24 | 19       |  7       |  1       | 1        | 6.095000 | \n",
       "| 191 | 16       |  9       |  2       | 4        | 6.593333 | \n",
       "| 52 | 23       |  8       |  2       | 4        | 6.593333 | \n",
       "| 149 |  1       |  9       |  2       | 4        | 6.593333 | \n",
       "| 243 |  4       | 10       |  6       | 0        | 5.720000 | \n",
       "| 349 |  5       |  1       | 18       | 8        | 6.114286 | \n",
       "| 311 | 21       | 11       |  3       | 1        | 4.616667 | \n",
       "| 242 |  4       | 10       |  2       | 0        | 6.306923 | \n",
       "| 267 |  7       | 11       |  3       | 0        | 5.856000 | \n",
       "| 266 | 21       | 11       |  5       | 0        | 5.586154 | \n",
       "| 6 |  4       |  7       |  2       | 0        | 5.952500 | \n",
       "| 133 | 20       |  9       |  2       | 4        | 6.593333 | \n",
       "| 292 | 19       | 11       |  3       | 0        | 5.783333 | \n",
       "| 247 | 23       | 10       |  1       | 0        | 5.420000 | \n",
       "| 382 | 19       |  3       |  2       | 2        | 6.170000 | \n",
       "| 302 | 19       | 11       |  1       | 1        | 6.440000 | \n",
       "| 297 | 19       | 11       |  3       | 0        | 5.624000 | \n",
       "| 316 |  8       | 12       |  2       | 0        | 6.336800 | \n",
       "| 329 | 20       | 12       |  2       | 0        | 6.194545 | \n",
       "| 357 | 17       |  1       |  1       | 0        | 5.476667 | \n",
       "| 422 |  3       |  3       |  2       | 2        | 6.170000 | \n",
       "| 254 |  8       | 11       |  2       | 0        | 6.368800 | \n",
       "| 129 | 14       |  9       |  4       | 0        | 6.243247 | \n",
       "| 216 | 15       |  9       |  2       | 4        | 6.593333 | \n",
       "| ⋮ | ⋮ | ⋮ | ⋮ | ⋮ | ⋮ | \n",
       "| 47 | 16       |  8       |  2       | 4        | 6.593333 | \n",
       "| 335 |  7       | 12       |  2       | 0        | 6.322400 | \n",
       "| 44 | 22       |  8       |  4       | 0        | 7.460000 | \n",
       "| 522 | 11       |  4       |  2       | 2        | 6.170000 | \n",
       "| 489 |  3       |  4       |  2       | 2        | 6.170000 | \n",
       "| 106 | 18       |  8       |  1       | 4        | 6.608333 | \n",
       "| 78 |  2       |  8       |  1       | 4        | 6.608333 | \n",
       "| 398 | 12       |  3       |  2       | 2        | 6.170000 | \n",
       "| 338 |  6       | 12       |  1       | 0        | 5.802000 | \n",
       "| 38 |  0       |  8       |  2       | 4        | 6.593333 | \n",
       "| 71 |  5       |  8       | 10       | 2        | 5.778571 | \n",
       "| 179 | 17       |  9       |  2       | 4        | 6.593333 | \n",
       "| 213 | 12       |  9       |  2       | 4        | 6.593333 | \n",
       "| 365 |  3       |  2       |  2       | 1        | 6.155385 | \n",
       "| 383 | 18       |  3       | 12       | 0        | 5.477778 | \n",
       "| 226 |  1       |  9       |  2       | 4        | 6.593333 | \n",
       "| 65 | 17       |  8       |  2       | 4        | 6.593333 | \n",
       "| 286 | 21       | 11       |  1       | 0        | 5.735000 | \n",
       "| 288 | 20       | 11       |  3       | 0        | 5.713333 | \n",
       "| 519 | 23       |  4       |  2       | 2        | 6.170000 | \n",
       "| 268 |  3       | 11       |  3       | 0        | 6.032000 | \n",
       "| 152 |  4       |  9       |  2       | 4        | 6.593333 | \n",
       "| 283 |  0       | 11       |  2       | 0        | 6.680000 | \n",
       "| 488 |  3       |  4       |  2       | 2        | 6.170000 | \n",
       "| 256 |  8       | 11       |  7       | 0        | 6.243247 | \n",
       "| 5 |  5       |  7       |  3       | 0        | 7.960000 | \n",
       "| 176 | 17       |  9       |  2       | 4        | 6.593333 | \n",
       "| 219 | 20       |  9       |  2       | 4        | 6.593333 | \n",
       "| 194 |  3       |  9       |  2       | 4        | 6.593333 | \n",
       "| 150 | 19       |  9       |  2       | 4        | 6.593333 | \n",
       "\n",
       "\n"
      ],
      "text/plain": [
       "    hour month Handle_Count Hashtag_Count avg_score\n",
       "322  8   12     1           2             6.417143 \n",
       "88  19    8     1           4             6.608333 \n",
       "192 13    9     2           4             6.593333 \n",
       "21   8    7     2           0             6.372500 \n",
       "328 13   12     4           0             5.247273 \n",
       "73  19    8     1           4             6.608333 \n",
       "24  19    7     1           1             6.095000 \n",
       "191 16    9     2           4             6.593333 \n",
       "52  23    8     2           4             6.593333 \n",
       "149  1    9     2           4             6.593333 \n",
       "243  4   10     6           0             5.720000 \n",
       "349  5    1    18           8             6.114286 \n",
       "311 21   11     3           1             4.616667 \n",
       "242  4   10     2           0             6.306923 \n",
       "267  7   11     3           0             5.856000 \n",
       "266 21   11     5           0             5.586154 \n",
       "6    4    7     2           0             5.952500 \n",
       "133 20    9     2           4             6.593333 \n",
       "292 19   11     3           0             5.783333 \n",
       "247 23   10     1           0             5.420000 \n",
       "382 19    3     2           2             6.170000 \n",
       "302 19   11     1           1             6.440000 \n",
       "297 19   11     3           0             5.624000 \n",
       "316  8   12     2           0             6.336800 \n",
       "329 20   12     2           0             6.194545 \n",
       "357 17    1     1           0             5.476667 \n",
       "422  3    3     2           2             6.170000 \n",
       "254  8   11     2           0             6.368800 \n",
       "129 14    9     4           0             6.243247 \n",
       "216 15    9     2           4             6.593333 \n",
       "⋮   ⋮    ⋮     ⋮            ⋮             ⋮        \n",
       "47  16    8     2           4             6.593333 \n",
       "335  7   12     2           0             6.322400 \n",
       "44  22    8     4           0             7.460000 \n",
       "522 11    4     2           2             6.170000 \n",
       "489  3    4     2           2             6.170000 \n",
       "106 18    8     1           4             6.608333 \n",
       "78   2    8     1           4             6.608333 \n",
       "398 12    3     2           2             6.170000 \n",
       "338  6   12     1           0             5.802000 \n",
       "38   0    8     2           4             6.593333 \n",
       "71   5    8    10           2             5.778571 \n",
       "179 17    9     2           4             6.593333 \n",
       "213 12    9     2           4             6.593333 \n",
       "365  3    2     2           1             6.155385 \n",
       "383 18    3    12           0             5.477778 \n",
       "226  1    9     2           4             6.593333 \n",
       "65  17    8     2           4             6.593333 \n",
       "286 21   11     1           0             5.735000 \n",
       "288 20   11     3           0             5.713333 \n",
       "519 23    4     2           2             6.170000 \n",
       "268  3   11     3           0             6.032000 \n",
       "152  4    9     2           4             6.593333 \n",
       "283  0   11     2           0             6.680000 \n",
       "488  3    4     2           2             6.170000 \n",
       "256  8   11     7           0             6.243247 \n",
       "5    5    7     3           0             7.960000 \n",
       "176 17    9     2           4             6.593333 \n",
       "219 20    9     2           4             6.593333 \n",
       "194  3    9     2           4             6.593333 \n",
       "150 19    9     2           4             6.593333 "
      ]
     },
     "metadata": {},
     "output_type": "display_data"
    }
   ],
   "source": [
    "xtrain.xgb"
   ]
  },
  {
   "cell_type": "code",
   "execution_count": 24,
   "metadata": {
    "collapsed": false,
    "deletable": true,
    "editable": true
   },
   "outputs": [
    {
     "data": {
      "text/html": [
       "0.566962307748351"
      ],
      "text/latex": [
       "0.566962307748351"
      ],
      "text/markdown": [
       "0.566962307748351"
      ],
      "text/plain": [
       "[1] 0.5669623"
      ]
     },
     "metadata": {},
     "output_type": "display_data"
    }
   ],
   "source": [
    "# Fit the xgboost model\n",
    "model2.xgb <- xgboost(xtrain.xgb[,-4], log(ytrain+1), nround = 50, verbose = 0, nthred = workers)\n",
    "\n",
    "# Generate predictions\n",
    "xgb.pred <- predict(model2.xgb, xvalid.xgb[,-4])\n",
    "xgb.pred.unlogged2 <- exp(xgb.pred) - 1  # Unlog the y variable.\n",
    "\n",
    "# Score the predictions.\n",
    "RMSLE(xgb.pred.unlogged2, yvalid)  #Score the model."
   ]
  },
  {
   "cell_type": "code",
   "execution_count": 25,
   "metadata": {
    "collapsed": true,
    "deletable": true,
    "editable": true
   },
   "outputs": [],
   "source": [
    "# Save the results for later ...\n",
    "\n",
    "model.results <- rbind(model.results, data.frame( RMSLE = 0.566962307748351, Model=\"xgboost2\"))"
   ]
  },
  {
   "cell_type": "code",
   "execution_count": 26,
   "metadata": {
    "collapsed": false,
    "deletable": true,
    "editable": true
   },
   "outputs": [
    {
     "data": {
      "text/html": [
       "<table>\n",
       "<thead><tr><th scope=col>RMSLE</th><th scope=col>Model</th></tr></thead>\n",
       "<tbody>\n",
       "\t<tr><td>0.5974126                    </td><td>linear_regression1           </td></tr>\n",
       "\t<tr><td>0.5869695                    </td><td>linear_regression_interaction</td></tr>\n",
       "\t<tr><td>0.5564339                    </td><td>xgboost1                     </td></tr>\n",
       "\t<tr><td>0.5669623                    </td><td>xgboost2                     </td></tr>\n",
       "</tbody>\n",
       "</table>\n"
      ],
      "text/latex": [
       "\\begin{tabular}{r|ll}\n",
       " RMSLE & Model\\\\\n",
       "\\hline\n",
       "\t 0.5974126                       & linear\\_regression1           \\\\\n",
       "\t 0.5869695                         & linear\\_regression\\_interaction\\\\\n",
       "\t 0.5564339                     & xgboost1                     \\\\\n",
       "\t 0.5669623                     & xgboost2                     \\\\\n",
       "\\end{tabular}\n"
      ],
      "text/markdown": [
       "\n",
       "RMSLE | Model | \n",
       "|---|---|---|---|\n",
       "| 0.5974126                     | linear_regression1            | \n",
       "| 0.5869695                     | linear_regression_interaction | \n",
       "| 0.5564339                     | xgboost1                      | \n",
       "| 0.5669623                     | xgboost2                      | \n",
       "\n",
       "\n"
      ],
      "text/plain": [
       "  RMSLE     Model                        \n",
       "1 0.5974126 linear_regression1           \n",
       "2 0.5869695 linear_regression_interaction\n",
       "3 0.5564339 xgboost1                     \n",
       "4 0.5669623 xgboost2                     "
      ]
     },
     "metadata": {},
     "output_type": "display_data"
    }
   ],
   "source": [
    "model.results"
   ]
  },
  {
   "cell_type": "code",
   "execution_count": 27,
   "metadata": {
    "collapsed": true,
    "deletable": true,
    "editable": true
   },
   "outputs": [],
   "source": [
    "\n",
    "# Select variables.\n",
    "# hour, month, handle_count, happines_score\n",
    "variablesSelected <- c(10,11,15,17)  "
   ]
  },
  {
   "cell_type": "code",
   "execution_count": 28,
   "metadata": {
    "collapsed": false,
    "deletable": true,
    "editable": true
   },
   "outputs": [
    {
     "data": {
      "text/html": [
       "<table>\n",
       "<thead><tr><th scope=col>Feature</th><th scope=col>Gain</th><th scope=col>Cover</th><th scope=col>Frequency</th></tr></thead>\n",
       "<tbody>\n",
       "\t<tr><td>avg_score   </td><td>0.5147359   </td><td>0.58782161  </td><td>0.3941411   </td></tr>\n",
       "\t<tr><td>hour        </td><td>0.2000775   </td><td>0.22754857  </td><td>0.3069241   </td></tr>\n",
       "\t<tr><td>Handle_Count</td><td>0.1730727   </td><td>0.08824770  </td><td>0.1111851   </td></tr>\n",
       "\t<tr><td>month       </td><td>0.1121139   </td><td>0.09638212  </td><td>0.1877497   </td></tr>\n",
       "</tbody>\n",
       "</table>\n"
      ],
      "text/latex": [
       "\\begin{tabular}{r|llll}\n",
       " Feature & Gain & Cover & Frequency\\\\\n",
       "\\hline\n",
       "\t avg\\_score    & 0.5147359      & 0.58782161     & 0.3941411     \\\\\n",
       "\t hour         & 0.2000775    & 0.22754857   & 0.3069241   \\\\\n",
       "\t Handle\\_Count & 0.1730727      & 0.08824770     & 0.1111851     \\\\\n",
       "\t month        & 0.1121139    & 0.09638212   & 0.1877497   \\\\\n",
       "\\end{tabular}\n"
      ],
      "text/markdown": [
       "\n",
       "Feature | Gain | Cover | Frequency | \n",
       "|---|---|---|---|\n",
       "| avg_score    | 0.5147359    | 0.58782161   | 0.3941411    | \n",
       "| hour         | 0.2000775    | 0.22754857   | 0.3069241    | \n",
       "| Handle_Count | 0.1730727    | 0.08824770   | 0.1111851    | \n",
       "| month        | 0.1121139    | 0.09638212   | 0.1877497    | \n",
       "\n",
       "\n"
      ],
      "text/plain": [
       "  Feature      Gain      Cover      Frequency\n",
       "1 avg_score    0.5147359 0.58782161 0.3941411\n",
       "2 hour         0.2000775 0.22754857 0.3069241\n",
       "3 Handle_Count 0.1730727 0.08824770 0.1111851\n",
       "4 month        0.1121139 0.09638212 0.1877497"
      ]
     },
     "metadata": {},
     "output_type": "display_data"
    },
    {
     "data": {
      "text/html": [
       "<ol class=list-inline>\n",
       "\t<li>'hour'</li>\n",
       "\t<li>'month'</li>\n",
       "\t<li>'Handle_Count'</li>\n",
       "\t<li>'Hashtag_Count'</li>\n",
       "\t<li>'avg_score'</li>\n",
       "</ol>\n"
      ],
      "text/latex": [
       "\\begin{enumerate*}\n",
       "\\item 'hour'\n",
       "\\item 'month'\n",
       "\\item 'Handle\\_Count'\n",
       "\\item 'Hashtag\\_Count'\n",
       "\\item 'avg\\_score'\n",
       "\\end{enumerate*}\n"
      ],
      "text/markdown": [
       "1. 'hour'\n",
       "2. 'month'\n",
       "3. 'Handle_Count'\n",
       "4. 'Hashtag_Count'\n",
       "5. 'avg_score'\n",
       "\n",
       "\n"
      ],
      "text/plain": [
       "[1] \"hour\"          \"month\"         \"Handle_Count\"  \"Hashtag_Count\"\n",
       "[5] \"avg_score\"    "
      ]
     },
     "metadata": {},
     "output_type": "display_data"
    }
   ],
   "source": [
    "# Print out the variale importance\n",
    "xgb.importance(colnames(xtrain[, variablesSelected]), model2.xgb)\n",
    "colnames(xtrain.xgb)"
   ]
  },
  {
   "cell_type": "code",
   "execution_count": 29,
   "metadata": {
    "collapsed": false,
    "deletable": true,
    "editable": true
   },
   "outputs": [
    {
     "data": {
      "text/html": [
       "0.57012181459039"
      ],
      "text/latex": [
       "0.57012181459039"
      ],
      "text/markdown": [
       "0.57012181459039"
      ],
      "text/plain": [
       "[1] 0.5701218"
      ]
     },
     "metadata": {},
     "output_type": "display_data"
    }
   ],
   "source": [
    "# Fit the xgboost model\n",
    "model3.xgb <- xgboost(xtrain.xgb[,-c(2,4)], log(ytrain+1), nround = 50, verbose = 0, nthred = workers)\n",
    "\n",
    "# Generate predictions\n",
    "xgb.pred <- predict(model3.xgb, xvalid.xgb[,-c(2,4)])\n",
    "xgb.pred.unlogged3 <- exp(xgb.pred) - 1  # Unlog the y variable.\n",
    "\n",
    "# Score the predictions.\n",
    "RMSLE(xgb.pred.unlogged3, yvalid)  #Score the model."
   ]
  },
  {
   "cell_type": "code",
   "execution_count": 30,
   "metadata": {
    "collapsed": true,
    "deletable": true,
    "editable": true
   },
   "outputs": [],
   "source": [
    "# Save the results for later ...\n",
    "\n",
    "model.results <- rbind(model.results, data.frame( RMSLE = 0.57012181459039, Model=\"xgboost3\"))"
   ]
  },
  {
   "cell_type": "code",
   "execution_count": 31,
   "metadata": {
    "collapsed": true,
    "deletable": true,
    "editable": true
   },
   "outputs": [],
   "source": [
    "#the error is higher so I will not cut other variables"
   ]
  },
  {
   "cell_type": "code",
   "execution_count": null,
   "metadata": {
    "collapsed": true,
    "deletable": true,
    "editable": true
   },
   "outputs": [],
   "source": [
    "# 4.3. Random forest"
   ]
  },
  {
   "cell_type": "code",
   "execution_count": 32,
   "metadata": {
    "collapsed": true,
    "deletable": true,
    "editable": true
   },
   "outputs": [],
   "source": [
    "# Select variables.\n",
    "# hour, month, handle_count, hashtag_count, happines_score\n",
    "variablesSelected <- c(10,11,15,16,17)  "
   ]
  },
  {
   "cell_type": "code",
   "execution_count": 33,
   "metadata": {
    "collapsed": false,
    "deletable": true,
    "editable": true
   },
   "outputs": [
    {
     "data": {
      "text/html": [
       "<ol class=list-inline>\n",
       "\t<li>393</li>\n",
       "\t<li>17</li>\n",
       "</ol>\n"
      ],
      "text/latex": [
       "\\begin{enumerate*}\n",
       "\\item 393\n",
       "\\item 17\n",
       "\\end{enumerate*}\n"
      ],
      "text/markdown": [
       "1. 393\n",
       "2. 17\n",
       "\n",
       "\n"
      ],
      "text/plain": [
       "[1] 393  17"
      ]
     },
     "metadata": {},
     "output_type": "display_data"
    }
   ],
   "source": [
    "dim(xtrain)"
   ]
  },
  {
   "cell_type": "code",
   "execution_count": 34,
   "metadata": {
    "collapsed": false,
    "deletable": true,
    "editable": true
   },
   "outputs": [
    {
     "data": {
      "text/html": [
       "0.535697017933687"
      ],
      "text/latex": [
       "0.535697017933687"
      ],
      "text/markdown": [
       "0.535697017933687"
      ],
      "text/plain": [
       "[1] 0.535697"
      ]
     },
     "metadata": {},
     "output_type": "display_data"
    }
   ],
   "source": [
    "model.rf <- foreach(ntreePerWorker = rep(ceiling(500/workers), workers), .combine=combine, .multicombine=TRUE, .inorder=FALSE, .packages = c(\"randomForest\")) %dopar% {\n",
    "  randomForest(xtrain[, variablesSelected], log(ytrain+1), ntree = ntreePerWorker, mtry = 3,  importance = TRUE,set.seed(202, \"L'Ecuyer\"))\n",
    "}\n",
    "\n",
    "# Generate predictions\n",
    "rf.pred <- predict(model.rf, xvalid[, variablesSelected])\n",
    "rf.pred.unlogged <- exp(rf.pred) - 1  # Unlog the y variable.\n",
    "\n",
    "# Score the predictions.\n",
    "RMSLE(rf.pred.unlogged, yvalid)  #Score the model."
   ]
  },
  {
   "cell_type": "code",
   "execution_count": 35,
   "metadata": {
    "collapsed": false,
    "deletable": true,
    "editable": true
   },
   "outputs": [
    {
     "data": {
      "text/html": [
       "0.534204606275396"
      ],
      "text/latex": [
       "0.534204606275396"
      ],
      "text/markdown": [
       "0.534204606275396"
      ],
      "text/plain": [
       "[1] 0.5342046"
      ]
     },
     "metadata": {},
     "output_type": "display_data"
    }
   ],
   "source": [
    "model.rf2 <- foreach(ntreePerWorker = rep(ceiling(500/workers), workers), .combine=combine, .multicombine=TRUE, .inorder=FALSE, .packages = c(\"randomForest\")) %dopar% {\n",
    "  randomForest(xtrain[, variablesSelected], log(ytrain+1), ntree = ntreePerWorker, mtry = 2, importance = TRUE,set.seed(202, \"L'Ecuyer\"))\n",
    "}\n",
    "\n",
    "# Generate predictions\n",
    "rf.pred <- predict(model.rf2, xvalid[, variablesSelected])\n",
    "rf.pred.unlogged <- exp(rf.pred) - 1  # Unlog the y variable.\n",
    "\n",
    "# Score the predictions.\n",
    "RMSLE(rf.pred.unlogged, yvalid)  #Score the model."
   ]
  },
  {
   "cell_type": "code",
   "execution_count": 36,
   "metadata": {
    "collapsed": true,
    "deletable": true,
    "editable": true
   },
   "outputs": [],
   "source": [
    "# Save the results for later ...\n",
    "\n",
    "model.results <- rbind(model.results, data.frame( RMSLE = 0.535697017933687, Model=\"rf1\"))\n",
    "model.results <- rbind(model.results, data.frame( RMSLE = 0.534204606275396, Model=\"rf2\"))"
   ]
  },
  {
   "cell_type": "code",
   "execution_count": 37,
   "metadata": {
    "collapsed": false,
    "deletable": true,
    "editable": true
   },
   "outputs": [
    {
     "data": {
      "image/png": "[encoded data removed]",
      "text/plain": [
       "Plot with title “model.rf2”"
      ]
     },
     "metadata": {},
     "output_type": "display_data"
    }
   ],
   "source": [
    "#variable importance\n",
    "varImpPlot(model.rf2, type = 1)"
   ]
  },
  {
   "cell_type": "code",
   "execution_count": 38,
   "metadata": {
    "collapsed": true,
    "deletable": true,
    "editable": true
   },
   "outputs": [],
   "source": [
    "# Select variables.\n",
    "#  month, handle_count, hashtag_count, happines_score\n",
    "variablesSelected <- c(11,15,16,17)  "
   ]
  },
  {
   "cell_type": "code",
   "execution_count": 39,
   "metadata": {
    "collapsed": false,
    "deletable": true,
    "editable": true
   },
   "outputs": [
    {
     "data": {
      "text/html": [
       "0.564384590477743"
      ],
      "text/latex": [
       "0.564384590477743"
      ],
      "text/markdown": [
       "0.564384590477743"
      ],
      "text/plain": [
       "[1] 0.5643846"
      ]
     },
     "metadata": {},
     "output_type": "display_data"
    }
   ],
   "source": [
    "model.rf3 <- foreach(ntreePerWorker = rep(ceiling(500/workers), workers), .combine=combine, .multicombine=TRUE, .inorder=FALSE, .packages = c(\"randomForest\")) %dopar% {\n",
    "  randomForest(xtrain[, variablesSelected], log(ytrain+1), ntree = ntreePerWorker, mtry = 2,  importance = TRUE,set.seed(202, \"L'Ecuyer\"))\n",
    "}\n",
    "\n",
    "# Generate predictions\n",
    "rf.pred <- predict(model.rf3, xvalid[, variablesSelected])\n",
    "rf.pred.unlogged3 <- exp(rf.pred) - 1  # Unlog the y variable.\n",
    "\n",
    "# Score the predictions.\n",
    "RMSLE(rf.pred.unlogged3, yvalid)  #Score the model."
   ]
  },
  {
   "cell_type": "code",
   "execution_count": 40,
   "metadata": {
    "collapsed": true,
    "deletable": true,
    "editable": true
   },
   "outputs": [],
   "source": [
    "# Save the results for later ...\n",
    "\n",
    "model.results <- rbind(model.results, data.frame( RMSLE =0.564384590477743 , Model=\"rf3\"))"
   ]
  },
  {
   "cell_type": "code",
   "execution_count": 41,
   "metadata": {
    "collapsed": false,
    "deletable": true,
    "editable": true
   },
   "outputs": [
    {
     "data": {
      "image/png": "[encoded data removed]",
      "text/plain": [
       "Plot with title “model.rf3”"
      ]
     },
     "metadata": {},
     "output_type": "display_data"
    }
   ],
   "source": [
    "#variable importance\n",
    "varImpPlot(model.rf3, type = 1)"
   ]
  },
  {
   "cell_type": "code",
   "execution_count": 42,
   "metadata": {
    "collapsed": true,
    "deletable": true,
    "editable": true
   },
   "outputs": [],
   "source": [
    "# Select variables.\n",
    "#  month, handle_count, hashtag_count\n",
    "variablesSelected <- c(11,15,16)  "
   ]
  },
  {
   "cell_type": "code",
   "execution_count": 43,
   "metadata": {
    "collapsed": false,
    "deletable": true,
    "editable": true
   },
   "outputs": [
    {
     "data": {
      "text/html": [
       "0.544181843634976"
      ],
      "text/latex": [
       "0.544181843634976"
      ],
      "text/markdown": [
       "0.544181843634976"
      ],
      "text/plain": [
       "[1] 0.5441818"
      ]
     },
     "metadata": {},
     "output_type": "display_data"
    }
   ],
   "source": [
    "model.rf3 <- foreach(ntreePerWorker = rep(ceiling(500/workers), workers), .combine=combine, .multicombine=TRUE, .inorder=FALSE, .packages = c(\"randomForest\")) %dopar% {\n",
    "  randomForest(xtrain[, variablesSelected], log(ytrain+1), ntree = ntreePerWorker, mtry = 3,  importance = TRUE,set.seed(202, \"L'Ecuyer\"))\n",
    "}\n",
    "\n",
    "# Generate predictions\n",
    "rf.pred <- predict(model.rf3, xvalid[, variablesSelected])\n",
    "rf.pred.unlogged3 <- exp(rf.pred) - 1  # Unlog the y variable.\n",
    "\n",
    "# Score the predictions.\n",
    "RMSLE(rf.pred.unlogged3, yvalid)  #Score the model."
   ]
  },
  {
   "cell_type": "code",
   "execution_count": 44,
   "metadata": {
    "collapsed": true,
    "deletable": true,
    "editable": true
   },
   "outputs": [],
   "source": [
    "# Save the results for later ...\n",
    "\n",
    "model.results <- rbind(model.results, data.frame( RMSLE =0.544181843634976 , Model=\"rf3\"))"
   ]
  },
  {
   "cell_type": "code",
   "execution_count": 45,
   "metadata": {
    "collapsed": false,
    "deletable": true,
    "editable": true
   },
   "outputs": [
    {
     "data": {
      "image/png": "[encoded data removed]",
      "text/plain": [
       "Plot with title “model.rf3”"
      ]
     },
     "metadata": {},
     "output_type": "display_data"
    }
   ],
   "source": [
    "#variable importance\n",
    "varImpPlot(model.rf3, type = 1)"
   ]
  },
  {
   "cell_type": "code",
   "execution_count": 46,
   "metadata": {
    "collapsed": true,
    "deletable": true,
    "editable": true
   },
   "outputs": [],
   "source": [
    "# Select variables.\n",
    "#  month,  hashtag_count\n",
    "variablesSelected <- c(11,16)  "
   ]
  },
  {
   "cell_type": "code",
   "execution_count": 47,
   "metadata": {
    "collapsed": false,
    "deletable": true,
    "editable": true
   },
   "outputs": [
    {
     "data": {
      "text/html": [
       "0.5630676447418"
      ],
      "text/latex": [
       "0.5630676447418"
      ],
      "text/markdown": [
       "0.5630676447418"
      ],
      "text/plain": [
       "[1] 0.5630676"
      ]
     },
     "metadata": {},
     "output_type": "display_data"
    }
   ],
   "source": [
    "model.rf4 <- foreach(ntreePerWorker = rep(ceiling(500/workers), workers), .combine=combine, .multicombine=TRUE, .inorder=FALSE, .packages = c(\"randomForest\")) %dopar% {\n",
    "  randomForest(xtrain[, variablesSelected], log(ytrain+1), ntree = ntreePerWorker, mtry = 2,  importance = TRUE,set.seed(202, \"L'Ecuyer\"))\n",
    "}\n",
    "\n",
    "# Generate predictions\n",
    "rf.pred <- predict(model.rf4, xvalid[, variablesSelected])\n",
    "rf.pred.unlogged4 <- exp(rf.pred) - 1  # Unlog the y variable.\n",
    "\n",
    "# Score the predictions.\n",
    "RMSLE(rf.pred.unlogged4, yvalid)  #Score the model."
   ]
  },
  {
   "cell_type": "code",
   "execution_count": 48,
   "metadata": {
    "collapsed": true,
    "deletable": true,
    "editable": true
   },
   "outputs": [],
   "source": [
    "# Save the results for later ...\n",
    "\n",
    "model.results <- rbind(model.results, data.frame( RMSLE =0.5630676447418, Model=\"rf4\"))"
   ]
  },
  {
   "cell_type": "code",
   "execution_count": 49,
   "metadata": {
    "collapsed": true,
    "deletable": true,
    "editable": true
   },
   "outputs": [],
   "source": [
    "#the error is higher so I will not cut other variables"
   ]
  },
  {
   "cell_type": "code",
   "execution_count": null,
   "metadata": {
    "collapsed": true,
    "deletable": true,
    "editable": true
   },
   "outputs": [],
   "source": [
    "# 4.4. Regression Tree"
   ]
  },
  {
   "cell_type": "code",
   "execution_count": 50,
   "metadata": {
    "collapsed": true,
    "deletable": true,
    "editable": true
   },
   "outputs": [],
   "source": [
    "# Select variables.\n",
    "# hour, month, handle_count, hashtag_count, happines_score\n",
    "variablesSelected <- c(10,11,15,16,17)  "
   ]
  },
  {
   "cell_type": "code",
   "execution_count": 51,
   "metadata": {
    "collapsed": false,
    "deletable": true,
    "editable": true
   },
   "outputs": [
    {
     "data": {
      "text/html": [
       "0.622733749382179"
      ],
      "text/latex": [
       "0.622733749382179"
      ],
      "text/markdown": [
       "0.622733749382179"
      ],
      "text/plain": [
       "[1] 0.6227337"
      ]
     },
     "metadata": {},
     "output_type": "display_data"
    }
   ],
   "source": [
    "# Fit the regression tree.\n",
    "model.rpart <- rpart(log(ytrain+1) ~., data = xtrain[, variablesSelected], control = rpart.control(cp = 0.001))\n",
    "\n",
    "# Generate predictions\n",
    "rpart.pred <- predict(model.rpart, xvalid[, variablesSelected])\n",
    "rpart.pred.unlogged <- exp(rpart.pred) - 1  # Unlog the y variable.\n",
    "\n",
    "# Score the predictions.\n",
    "RMSLE(rpart.pred.unlogged, yvalid)  #Score the model."
   ]
  },
  {
   "cell_type": "code",
   "execution_count": 52,
   "metadata": {
    "collapsed": true,
    "deletable": true,
    "editable": true
   },
   "outputs": [],
   "source": [
    "# Save the results for later ...\n",
    "\n",
    "model.results <- rbind(model.results, data.frame( RMSLE =0.622733749382179, Model=\"rtree1\"))"
   ]
  },
  {
   "cell_type": "code",
   "execution_count": 53,
   "metadata": {
    "collapsed": false,
    "deletable": true,
    "editable": true
   },
   "outputs": [
    {
     "data": {
      "text/html": [
       "<dl class=dl-horizontal>\n",
       "\t<dt>avg_score</dt>\n",
       "\t\t<dd>38.916577690616</dd>\n",
       "\t<dt>Handle_Count</dt>\n",
       "\t\t<dd>20.1823712297963</dd>\n",
       "\t<dt>month</dt>\n",
       "\t\t<dd>11.5874191314517</dd>\n",
       "\t<dt>hour</dt>\n",
       "\t\t<dd>11.2217771454299</dd>\n",
       "\t<dt>Hashtag_Count</dt>\n",
       "\t\t<dd>4.98769234740603</dd>\n",
       "</dl>\n"
      ],
      "text/latex": [
       "\\begin{description*}\n",
       "\\item[avg\\textbackslash{}\\_score] 38.916577690616\n",
       "\\item[Handle\\textbackslash{}\\_Count] 20.1823712297963\n",
       "\\item[month] 11.5874191314517\n",
       "\\item[hour] 11.2217771454299\n",
       "\\item[Hashtag\\textbackslash{}\\_Count] 4.98769234740603\n",
       "\\end{description*}\n"
      ],
      "text/markdown": [
       "avg_score\n",
       ":   38.916577690616Handle_Count\n",
       ":   20.1823712297963month\n",
       ":   11.5874191314517hour\n",
       ":   11.2217771454299Hashtag_Count\n",
       ":   4.98769234740603\n",
       "\n"
      ],
      "text/plain": [
       "    avg_score  Handle_Count         month          hour Hashtag_Count \n",
       "    38.916578     20.182371     11.587419     11.221777      4.987692 "
      ]
     },
     "metadata": {},
     "output_type": "display_data"
    }
   ],
   "source": [
    "# Which attributes are most important?\n",
    "model.rpart$variable.importance"
   ]
  },
  {
   "cell_type": "code",
   "execution_count": 54,
   "metadata": {
    "collapsed": true,
    "deletable": true,
    "editable": true
   },
   "outputs": [],
   "source": [
    "# Select variables.\n",
    "# hour, month, handle_count, happines_score\n",
    "variablesSelected <- c(10,11,15,17)  "
   ]
  },
  {
   "cell_type": "code",
   "execution_count": 55,
   "metadata": {
    "collapsed": false,
    "deletable": true,
    "editable": true
   },
   "outputs": [
    {
     "data": {
      "text/html": [
       "0.622733749382179"
      ],
      "text/latex": [
       "0.622733749382179"
      ],
      "text/markdown": [
       "0.622733749382179"
      ],
      "text/plain": [
       "[1] 0.6227337"
      ]
     },
     "metadata": {},
     "output_type": "display_data"
    }
   ],
   "source": [
    "# Fit the regression tree.\n",
    "model.rpart2 <- rpart(log(ytrain+1) ~., data = xtrain[, variablesSelected], control = rpart.control(cp = 0.001))\n",
    "\n",
    "# Generate predictions\n",
    "rpart.pred <- predict(model.rpart2, xvalid[, variablesSelected])\n",
    "rpart.pred.unlogged2<- exp(rpart.pred) - 1  # Unlog the y variable.\n",
    "\n",
    "# Score the predictions.\n",
    "RMSLE(rpart.pred.unlogged2, yvalid)  #Score the model."
   ]
  },
  {
   "cell_type": "code",
   "execution_count": 56,
   "metadata": {
    "collapsed": true,
    "deletable": true,
    "editable": true
   },
   "outputs": [],
   "source": [
    "# Save the results for later ...\n",
    "\n",
    "model.results <- rbind(model.results, data.frame( RMSLE =0.622733749382179, Model=\"rtree2\"))"
   ]
  },
  {
   "cell_type": "code",
   "execution_count": 57,
   "metadata": {
    "collapsed": false,
    "deletable": true,
    "editable": true
   },
   "outputs": [
    {
     "data": {
      "text/html": [
       "<dl class=dl-horizontal>\n",
       "\t<dt>avg_score</dt>\n",
       "\t\t<dd>38.916577690616</dd>\n",
       "\t<dt>Handle_Count</dt>\n",
       "\t\t<dd>20.1823712297963</dd>\n",
       "\t<dt>month</dt>\n",
       "\t\t<dd>11.5874191314517</dd>\n",
       "\t<dt>hour</dt>\n",
       "\t\t<dd>11.2217771454299</dd>\n",
       "</dl>\n"
      ],
      "text/latex": [
       "\\begin{description*}\n",
       "\\item[avg\\textbackslash{}\\_score] 38.916577690616\n",
       "\\item[Handle\\textbackslash{}\\_Count] 20.1823712297963\n",
       "\\item[month] 11.5874191314517\n",
       "\\item[hour] 11.2217771454299\n",
       "\\end{description*}\n"
      ],
      "text/markdown": [
       "avg_score\n",
       ":   38.916577690616Handle_Count\n",
       ":   20.1823712297963month\n",
       ":   11.5874191314517hour\n",
       ":   11.2217771454299\n",
       "\n"
      ],
      "text/plain": [
       "   avg_score Handle_Count        month         hour \n",
       "    38.91658     20.18237     11.58742     11.22178 "
      ]
     },
     "metadata": {},
     "output_type": "display_data"
    }
   ],
   "source": [
    "# Which attributes are most important?\n",
    "model.rpart2$variable.importance"
   ]
  },
  {
   "cell_type": "code",
   "execution_count": 58,
   "metadata": {
    "collapsed": true,
    "deletable": true,
    "editable": true
   },
   "outputs": [],
   "source": [
    "# Select variables.\n",
    "# month, handle_count, happines_score\n",
    "variablesSelected <- c(11,15,17)  "
   ]
  },
  {
   "cell_type": "code",
   "execution_count": 59,
   "metadata": {
    "collapsed": false,
    "deletable": true,
    "editable": true
   },
   "outputs": [
    {
     "data": {
      "text/html": [
       "0.631620557932791"
      ],
      "text/latex": [
       "0.631620557932791"
      ],
      "text/markdown": [
       "0.631620557932791"
      ],
      "text/plain": [
       "[1] 0.6316206"
      ]
     },
     "metadata": {},
     "output_type": "display_data"
    }
   ],
   "source": [
    "# Fit the regression tree.\n",
    "model.rpart3 <- rpart(log(ytrain+1) ~., data = xtrain[, variablesSelected], control = rpart.control(cp = 0.001))\n",
    "\n",
    "# Generate predictions\n",
    "rpart.pred <- predict(model.rpart3, xvalid[, variablesSelected])\n",
    "rpart.pred.unlogged <- exp(rpart.pred) - 1  # Unlog the y variable.\n",
    "\n",
    "# Score the predictions.\n",
    "RMSLE(rpart.pred.unlogged, yvalid)  #Score the model."
   ]
  },
  {
   "cell_type": "code",
   "execution_count": 60,
   "metadata": {
    "collapsed": true,
    "deletable": true,
    "editable": true
   },
   "outputs": [],
   "source": [
    "# Save the results for later ...\n",
    "\n",
    "model.results <- rbind(model.results, data.frame( RMSLE =0.631620557932791, Model=\"rtree3\"))"
   ]
  },
  {
   "cell_type": "code",
   "execution_count": 61,
   "metadata": {
    "collapsed": true,
    "deletable": true,
    "editable": true
   },
   "outputs": [],
   "source": [
    "#the error is higher so I will not cut other variables"
   ]
  },
  {
   "cell_type": "code",
   "execution_count": 62,
   "metadata": {
    "collapsed": false,
    "deletable": true,
    "editable": true
   },
   "outputs": [
    {
     "data": {
      "text/html": [
       "<table>\n",
       "<thead><tr><th scope=col>RMSLE</th><th scope=col>Model</th></tr></thead>\n",
       "<tbody>\n",
       "\t<tr><td>0.5974126                    </td><td>linear_regression1           </td></tr>\n",
       "\t<tr><td>0.5869695                    </td><td>linear_regression_interaction</td></tr>\n",
       "\t<tr><td>0.5564339                    </td><td>xgboost1                     </td></tr>\n",
       "\t<tr><td>0.5669623                    </td><td>xgboost2                     </td></tr>\n",
       "\t<tr><td>0.5701218                    </td><td>xgboost3                     </td></tr>\n",
       "\t<tr><td>0.5356970                    </td><td>rf1                          </td></tr>\n",
       "\t<tr><td>0.5342046                    </td><td>rf2                          </td></tr>\n",
       "\t<tr><td>0.5643846                    </td><td>rf3                          </td></tr>\n",
       "\t<tr><td>0.5441818                    </td><td>rf3                          </td></tr>\n",
       "\t<tr><td>0.5630676                    </td><td>rf4                          </td></tr>\n",
       "\t<tr><td>0.6227337                    </td><td>rtree1                       </td></tr>\n",
       "\t<tr><td>0.6227337                    </td><td>rtree2                       </td></tr>\n",
       "\t<tr><td>0.6316206                    </td><td>rtree3                       </td></tr>\n",
       "</tbody>\n",
       "</table>\n"
      ],
      "text/latex": [
       "\\begin{tabular}{r|ll}\n",
       " RMSLE & Model\\\\\n",
       "\\hline\n",
       "\t 0.5974126                       & linear\\_regression1           \\\\\n",
       "\t 0.5869695                         & linear\\_regression\\_interaction\\\\\n",
       "\t 0.5564339                     & xgboost1                     \\\\\n",
       "\t 0.5669623                     & xgboost2                     \\\\\n",
       "\t 0.5701218                     & xgboost3                     \\\\\n",
       "\t 0.5356970                     & rf1                          \\\\\n",
       "\t 0.5342046                     & rf2                          \\\\\n",
       "\t 0.5643846                     & rf3                          \\\\\n",
       "\t 0.5441818                     & rf3                          \\\\\n",
       "\t 0.5630676                     & rf4                          \\\\\n",
       "\t 0.6227337                     & rtree1                       \\\\\n",
       "\t 0.6227337                     & rtree2                       \\\\\n",
       "\t 0.6316206                     & rtree3                       \\\\\n",
       "\\end{tabular}\n"
      ],
      "text/markdown": [
       "\n",
       "RMSLE | Model | \n",
       "|---|---|---|---|---|---|---|---|---|---|---|---|---|\n",
       "| 0.5974126                     | linear_regression1            | \n",
       "| 0.5869695                     | linear_regression_interaction | \n",
       "| 0.5564339                     | xgboost1                      | \n",
       "| 0.5669623                     | xgboost2                      | \n",
       "| 0.5701218                     | xgboost3                      | \n",
       "| 0.5356970                     | rf1                           | \n",
       "| 0.5342046                     | rf2                           | \n",
       "| 0.5643846                     | rf3                           | \n",
       "| 0.5441818                     | rf3                           | \n",
       "| 0.5630676                     | rf4                           | \n",
       "| 0.6227337                     | rtree1                        | \n",
       "| 0.6227337                     | rtree2                        | \n",
       "| 0.6316206                     | rtree3                        | \n",
       "\n",
       "\n"
      ],
      "text/plain": [
       "   RMSLE     Model                        \n",
       "1  0.5974126 linear_regression1           \n",
       "2  0.5869695 linear_regression_interaction\n",
       "3  0.5564339 xgboost1                     \n",
       "4  0.5669623 xgboost2                     \n",
       "5  0.5701218 xgboost3                     \n",
       "6  0.5356970 rf1                          \n",
       "7  0.5342046 rf2                          \n",
       "8  0.5643846 rf3                          \n",
       "9  0.5441818 rf3                          \n",
       "10 0.5630676 rf4                          \n",
       "11 0.6227337 rtree1                       \n",
       "12 0.6227337 rtree2                       \n",
       "13 0.6316206 rtree3                       "
      ]
     },
     "metadata": {},
     "output_type": "display_data"
    }
   ],
   "source": [
    "model.results"
   ]
  },
  {
   "cell_type": "code",
   "execution_count": null,
   "metadata": {
    "collapsed": true,
    "deletable": true,
    "editable": true
   },
   "outputs": [],
   "source": [
    "# 4.5.1. Simple average models"
   ]
  },
  {
   "cell_type": "code",
   "execution_count": 63,
   "metadata": {
    "collapsed": false,
    "deletable": true,
    "editable": true
   },
   "outputs": [
    {
     "data": {
      "text/html": [
       "0.555010811744055"
      ],
      "text/latex": [
       "0.555010811744055"
      ],
      "text/markdown": [
       "0.555010811744055"
      ],
      "text/plain": [
       "[1] 0.5550108"
      ]
     },
     "metadata": {},
     "output_type": "display_data"
    }
   ],
   "source": [
    "# Ensemble model.\n",
    "ensemble_pred_avg <- ( rf.pred.unlogged+xgb.pred.unlogged+lm.2.pred.unlogged+rpart.pred.unlogged2)/4\n",
    "RMSLE(ensemble_pred_avg, valid.df$Score) "
   ]
  },
  {
   "cell_type": "code",
   "execution_count": 101,
   "metadata": {
    "collapsed": true,
    "deletable": true,
    "editable": true
   },
   "outputs": [],
   "source": [
    "# Save the results for later ...\n",
    "\n",
    "model.results <- rbind(model.results, data.frame( RMSLE =0.555010811744055, Model=\"avg_1\"))"
   ]
  },
  {
   "cell_type": "code",
   "execution_count": 64,
   "metadata": {
    "collapsed": false,
    "deletable": true,
    "editable": true
   },
   "outputs": [
    {
     "data": {
      "text/html": [
       "0.538590894737329"
      ],
      "text/latex": [
       "0.538590894737329"
      ],
      "text/markdown": [
       "0.538590894737329"
      ],
      "text/plain": [
       "[1] 0.5385909"
      ]
     },
     "metadata": {},
     "output_type": "display_data"
    }
   ],
   "source": [
    "# Ensemble model.\n",
    "ensemble_pred_avg2 <- ( rf.pred.unlogged+xgb.pred.unlogged+lm.2.pred.unlogged)/3\n",
    "RMSLE(ensemble_pred_avg2, valid.df$Score) "
   ]
  },
  {
   "cell_type": "code",
   "execution_count": 102,
   "metadata": {
    "collapsed": true,
    "deletable": true,
    "editable": true
   },
   "outputs": [],
   "source": [
    "# Save the results for later ...\n",
    "\n",
    "model.results <- rbind(model.results, data.frame( RMSLE =0.538590894737329, Model=\"avg_2\"))"
   ]
  },
  {
   "cell_type": "code",
   "execution_count": 65,
   "metadata": {
    "collapsed": false,
    "deletable": true,
    "editable": true
   },
   "outputs": [
    {
     "data": {
      "text/html": [
       "0.537430513260946"
      ],
      "text/latex": [
       "0.537430513260946"
      ],
      "text/markdown": [
       "0.537430513260946"
      ],
      "text/plain": [
       "[1] 0.5374305"
      ]
     },
     "metadata": {},
     "output_type": "display_data"
    }
   ],
   "source": [
    "# Ensemble model.\n",
    "ensemble_pred_avg3 <- ( rf.pred.unlogged+xgb.pred.unlogged)/2\n",
    "RMSLE(ensemble_pred_avg3, valid.df$Score) "
   ]
  },
  {
   "cell_type": "code",
   "execution_count": 103,
   "metadata": {
    "collapsed": true,
    "deletable": true,
    "editable": true
   },
   "outputs": [],
   "source": [
    "# Save the results for later ...\n",
    "\n",
    "model.results <- rbind(model.results, data.frame( RMSLE =0.537430513260946, Model=\"avg_3\"))"
   ]
  },
  {
   "cell_type": "code",
   "execution_count": null,
   "metadata": {
    "collapsed": true,
    "deletable": true,
    "editable": true
   },
   "outputs": [],
   "source": [
    "# 4.5.2. Weighted Average"
   ]
  },
  {
   "cell_type": "code",
   "execution_count": 88,
   "metadata": {
    "collapsed": false,
    "deletable": true,
    "editable": true
   },
   "outputs": [
    {
     "name": "stderr",
     "output_type": "stream",
     "text": [
      "Warning message in log(predictions + 1):\n",
      "“NaNs produced”Warning message in log(predictions + 1):\n",
      "“NaNs produced”Warning message in log(predictions + 1):\n",
      "“NaNs produced”"
     ]
    }
   ],
   "source": [
    "m1_weight <- seq(0.1,0.9,0.1)\n",
    "m2_weight <- seq(0.1,0.9,0.1)\n",
    "\n",
    "# set up a matrix to store the RMSLE errors\n",
    "RMSLE_matrix <- matrix(0,9,9)\n",
    "for (i in 1:9) {\n",
    "    for (j in 1:9){\n",
    "        if (m2_weight[j]+ m1_weight[i] > 1) next\n",
    "        ensemble_pred <- m1_weight[i]*rf.pred.unlogged +xgb.pred.unlogged*m2_weight[j] + lm.2.pred.unlogged*(1-\n",
    "                                                                                        m1_weight[i] - m2_weight[i])\n",
    "        RMSLE_matrix[i,j] <- RMSLE(ensemble_pred, valid.df$Score)\n",
    "    }\n",
    "}"
   ]
  },
  {
   "cell_type": "code",
   "execution_count": 89,
   "metadata": {
    "collapsed": false,
    "deletable": true,
    "editable": true
   },
   "outputs": [
    {
     "data": {
      "text/html": [
       "<table>\n",
       "<tbody>\n",
       "\t<tr><td>0.5637825</td><td>0.5572505</td><td>0.5545717</td><td>0.5546927</td><td>0.5569155</td><td>0.5607490</td><td>0.5658334</td><td>0.5718968</td><td>0.5787302</td></tr>\n",
       "\t<tr><td>0.5558011</td><td>0.5491001</td><td>0.5462316</td><td>0.5461753</td><td>0.5482454</td><td>0.5519540</td><td>0.5569406</td><td>0.5629313</td><td>0.0000000</td></tr>\n",
       "\t<tr><td>0.5508474</td><td>0.5436868</td><td>0.5403838</td><td>0.5399393</td><td>0.5416724</td><td>0.5450942</td><td>0.5498401</td><td>0.0000000</td><td>0.0000000</td></tr>\n",
       "\t<tr><td>0.5495987</td><td>0.5416530</td><td>0.5376345</td><td>0.5365543</td><td>0.5377310</td><td>0.5406701</td><td>0.0000000</td><td>0.0000000</td><td>0.0000000</td></tr>\n",
       "\t<tr><td>0.5534752</td><td>0.5443029</td><td>0.5391811</td><td>0.5371199</td><td>0.5374305</td><td>0.0000000</td><td>0.0000000</td><td>0.0000000</td><td>0.0000000</td></tr>\n",
       "\t<tr><td>0.5664573</td><td>0.5551486</td><td>0.5481305</td><td>0.5443909</td><td>0.0000000</td><td>0.0000000</td><td>0.0000000</td><td>0.0000000</td><td>0.0000000</td></tr>\n",
       "\t<tr><td>0.6287228</td><td>0.6012818</td><td>0.5843025</td><td>0.0000000</td><td>0.0000000</td><td>0.0000000</td><td>0.0000000</td><td>0.0000000</td><td>0.0000000</td></tr>\n",
       "\t<tr><td>      NaN</td><td>      NaN</td><td>0.0000000</td><td>0.0000000</td><td>0.0000000</td><td>0.0000000</td><td>0.0000000</td><td>0.0000000</td><td>0.0000000</td></tr>\n",
       "\t<tr><td>      NaN</td><td>0.0000000</td><td>0.0000000</td><td>0.0000000</td><td>0.0000000</td><td>0.0000000</td><td>0.0000000</td><td>0.0000000</td><td>0.0000000</td></tr>\n",
       "</tbody>\n",
       "</table>\n"
      ],
      "text/latex": [
       "\\begin{tabular}{lllllllll}\n",
       "\t 0.5637825 & 0.5572505 & 0.5545717 & 0.5546927 & 0.5569155 & 0.5607490 & 0.5658334 & 0.5718968 & 0.5787302\\\\\n",
       "\t 0.5558011 & 0.5491001 & 0.5462316 & 0.5461753 & 0.5482454 & 0.5519540 & 0.5569406 & 0.5629313 & 0.0000000\\\\\n",
       "\t 0.5508474 & 0.5436868 & 0.5403838 & 0.5399393 & 0.5416724 & 0.5450942 & 0.5498401 & 0.0000000 & 0.0000000\\\\\n",
       "\t 0.5495987 & 0.5416530 & 0.5376345 & 0.5365543 & 0.5377310 & 0.5406701 & 0.0000000 & 0.0000000 & 0.0000000\\\\\n",
       "\t 0.5534752 & 0.5443029 & 0.5391811 & 0.5371199 & 0.5374305 & 0.0000000 & 0.0000000 & 0.0000000 & 0.0000000\\\\\n",
       "\t 0.5664573 & 0.5551486 & 0.5481305 & 0.5443909 & 0.0000000 & 0.0000000 & 0.0000000 & 0.0000000 & 0.0000000\\\\\n",
       "\t 0.6287228 & 0.6012818 & 0.5843025 & 0.0000000 & 0.0000000 & 0.0000000 & 0.0000000 & 0.0000000 & 0.0000000\\\\\n",
       "\t       NaN &       NaN & 0.0000000 & 0.0000000 & 0.0000000 & 0.0000000 & 0.0000000 & 0.0000000 & 0.0000000\\\\\n",
       "\t       NaN & 0.0000000 & 0.0000000 & 0.0000000 & 0.0000000 & 0.0000000 & 0.0000000 & 0.0000000 & 0.0000000\\\\\n",
       "\\end{tabular}\n"
      ],
      "text/markdown": [
       "\n",
       "| 0.5637825 | 0.5572505 | 0.5545717 | 0.5546927 | 0.5569155 | 0.5607490 | 0.5658334 | 0.5718968 | 0.5787302 | \n",
       "| 0.5558011 | 0.5491001 | 0.5462316 | 0.5461753 | 0.5482454 | 0.5519540 | 0.5569406 | 0.5629313 | 0.0000000 | \n",
       "| 0.5508474 | 0.5436868 | 0.5403838 | 0.5399393 | 0.5416724 | 0.5450942 | 0.5498401 | 0.0000000 | 0.0000000 | \n",
       "| 0.5495987 | 0.5416530 | 0.5376345 | 0.5365543 | 0.5377310 | 0.5406701 | 0.0000000 | 0.0000000 | 0.0000000 | \n",
       "| 0.5534752 | 0.5443029 | 0.5391811 | 0.5371199 | 0.5374305 | 0.0000000 | 0.0000000 | 0.0000000 | 0.0000000 | \n",
       "| 0.5664573 | 0.5551486 | 0.5481305 | 0.5443909 | 0.0000000 | 0.0000000 | 0.0000000 | 0.0000000 | 0.0000000 | \n",
       "| 0.6287228 | 0.6012818 | 0.5843025 | 0.0000000 | 0.0000000 | 0.0000000 | 0.0000000 | 0.0000000 | 0.0000000 | \n",
       "|       NaN |       NaN | 0.0000000 | 0.0000000 | 0.0000000 | 0.0000000 | 0.0000000 | 0.0000000 | 0.0000000 | \n",
       "|       NaN | 0.0000000 | 0.0000000 | 0.0000000 | 0.0000000 | 0.0000000 | 0.0000000 | 0.0000000 | 0.0000000 | \n",
       "\n",
       "\n"
      ],
      "text/plain": [
       "      [,1]      [,2]      [,3]      [,4]      [,5]      [,6]      [,7]     \n",
       " [1,] 0.5637825 0.5572505 0.5545717 0.5546927 0.5569155 0.5607490 0.5658334\n",
       " [2,] 0.5558011 0.5491001 0.5462316 0.5461753 0.5482454 0.5519540 0.5569406\n",
       " [3,] 0.5508474 0.5436868 0.5403838 0.5399393 0.5416724 0.5450942 0.5498401\n",
       " [4,] 0.5495987 0.5416530 0.5376345 0.5365543 0.5377310 0.5406701 0.0000000\n",
       " [5,] 0.5534752 0.5443029 0.5391811 0.5371199 0.5374305 0.0000000 0.0000000\n",
       " [6,] 0.5664573 0.5551486 0.5481305 0.5443909 0.0000000 0.0000000 0.0000000\n",
       " [7,] 0.6287228 0.6012818 0.5843025 0.0000000 0.0000000 0.0000000 0.0000000\n",
       " [8,]       NaN       NaN 0.0000000 0.0000000 0.0000000 0.0000000 0.0000000\n",
       " [9,]       NaN 0.0000000 0.0000000 0.0000000 0.0000000 0.0000000 0.0000000\n",
       "      [,8]      [,9]     \n",
       " [1,] 0.5718968 0.5787302\n",
       " [2,] 0.5629313 0.0000000\n",
       " [3,] 0.0000000 0.0000000\n",
       " [4,] 0.0000000 0.0000000\n",
       " [5,] 0.0000000 0.0000000\n",
       " [6,] 0.0000000 0.0000000\n",
       " [7,] 0.0000000 0.0000000\n",
       " [8,] 0.0000000 0.0000000\n",
       " [9,] 0.0000000 0.0000000"
      ]
     },
     "metadata": {},
     "output_type": "display_data"
    }
   ],
   "source": [
    "RMSLE_matrix"
   ]
  },
  {
   "cell_type": "code",
   "execution_count": 90,
   "metadata": {
    "collapsed": false,
    "deletable": true,
    "editable": true
   },
   "outputs": [],
   "source": [
    "ensemble_pred<-m1_weight[8]*rf.pred.unlogged +xgb.pred.unlogged*m2_weight[1] + lm.2.pred.unlogged*(1-m1_weight[8] - m2_weight[1])"
   ]
  },
  {
   "cell_type": "code",
   "execution_count": 91,
   "metadata": {
    "collapsed": false,
    "deletable": true,
    "editable": true
   },
   "outputs": [],
   "source": [
    "RMSLE_matrix[8,1] <- RMSLE(ensemble_pred, valid.df$Score)"
   ]
  },
  {
   "cell_type": "code",
   "execution_count": 92,
   "metadata": {
    "collapsed": false,
    "deletable": true,
    "editable": true
   },
   "outputs": [
    {
     "data": {
      "text/html": [
       "0.53373173279302"
      ],
      "text/latex": [
       "0.53373173279302"
      ],
      "text/markdown": [
       "0.53373173279302"
      ],
      "text/plain": [
       "[1] 0.5337317"
      ]
     },
     "metadata": {},
     "output_type": "display_data"
    }
   ],
   "source": [
    "RMSLE_matrix[8,1]"
   ]
  },
  {
   "cell_type": "code",
   "execution_count": 93,
   "metadata": {
    "collapsed": true,
    "deletable": true,
    "editable": true
   },
   "outputs": [],
   "source": [
    "ensemble_pred<-m1_weight[8]*rf.pred.unlogged +xgb.pred.unlogged*m2_weight[2] + lm.2.pred.unlogged*(1-m1_weight[8] - m2_weight[2])"
   ]
  },
  {
   "cell_type": "code",
   "execution_count": 94,
   "metadata": {
    "collapsed": true,
    "deletable": true,
    "editable": true
   },
   "outputs": [],
   "source": [
    "RMSLE_matrix[8,2]<- RMSLE(ensemble_pred, valid.df$Score)"
   ]
  },
  {
   "cell_type": "code",
   "execution_count": 95,
   "metadata": {
    "collapsed": false,
    "deletable": true,
    "editable": true
   },
   "outputs": [
    {
     "data": {
      "text/html": [
       "0.533152443308139"
      ],
      "text/latex": [
       "0.533152443308139"
      ],
      "text/markdown": [
       "0.533152443308139"
      ],
      "text/plain": [
       "[1] 0.5331524"
      ]
     },
     "metadata": {},
     "output_type": "display_data"
    }
   ],
   "source": [
    "RMSLE_matrix[8,2]"
   ]
  },
  {
   "cell_type": "code",
   "execution_count": 96,
   "metadata": {
    "collapsed": true,
    "deletable": true,
    "editable": true
   },
   "outputs": [],
   "source": [
    "ensemble_pred<-m1_weight[9]*rf.pred.unlogged +xgb.pred.unlogged*m2_weight[1] + lm.2.pred.unlogged*(1-m1_weight[9] - m2_weight[1])"
   ]
  },
  {
   "cell_type": "code",
   "execution_count": 97,
   "metadata": {
    "collapsed": true,
    "deletable": true,
    "editable": true
   },
   "outputs": [],
   "source": [
    "RMSLE_matrix[9,1]<- RMSLE(ensemble_pred, valid.df$Score)"
   ]
  },
  {
   "cell_type": "code",
   "execution_count": 98,
   "metadata": {
    "collapsed": false,
    "deletable": true,
    "editable": true
   },
   "outputs": [
    {
     "data": {
      "text/html": [
       "0.533213109538991"
      ],
      "text/latex": [
       "0.533213109538991"
      ],
      "text/markdown": [
       "0.533213109538991"
      ],
      "text/plain": [
       "[1] 0.5332131"
      ]
     },
     "metadata": {},
     "output_type": "display_data"
    }
   ],
   "source": [
    "RMSLE_matrix[9,1]"
   ]
  },
  {
   "cell_type": "code",
   "execution_count": 99,
   "metadata": {
    "collapsed": false,
    "deletable": true,
    "editable": true
   },
   "outputs": [
    {
     "data": {
      "text/html": [
       "<table>\n",
       "<tbody>\n",
       "\t<tr><td>0.5637825</td><td>0.5572505</td><td>0.5545717</td><td>0.5546927</td><td>0.5569155</td><td>0.5607490</td><td>0.5658334</td><td>0.5718968</td><td>0.5787302</td></tr>\n",
       "\t<tr><td>0.5558011</td><td>0.5491001</td><td>0.5462316</td><td>0.5461753</td><td>0.5482454</td><td>0.5519540</td><td>0.5569406</td><td>0.5629313</td><td>0.0000000</td></tr>\n",
       "\t<tr><td>0.5508474</td><td>0.5436868</td><td>0.5403838</td><td>0.5399393</td><td>0.5416724</td><td>0.5450942</td><td>0.5498401</td><td>0.0000000</td><td>0.0000000</td></tr>\n",
       "\t<tr><td>0.5495987</td><td>0.5416530</td><td>0.5376345</td><td>0.5365543</td><td>0.5377310</td><td>0.5406701</td><td>0.0000000</td><td>0.0000000</td><td>0.0000000</td></tr>\n",
       "\t<tr><td>0.5534752</td><td>0.5443029</td><td>0.5391811</td><td>0.5371199</td><td>0.5374305</td><td>0.0000000</td><td>0.0000000</td><td>0.0000000</td><td>0.0000000</td></tr>\n",
       "\t<tr><td>0.5664573</td><td>0.5551486</td><td>0.5481305</td><td>0.5443909</td><td>0.0000000</td><td>0.0000000</td><td>0.0000000</td><td>0.0000000</td><td>0.0000000</td></tr>\n",
       "\t<tr><td>0.6287228</td><td>0.6012818</td><td>0.5843025</td><td>0.0000000</td><td>0.0000000</td><td>0.0000000</td><td>0.0000000</td><td>0.0000000</td><td>0.0000000</td></tr>\n",
       "\t<tr><td>0.5337317</td><td>0.5331524</td><td>0.0000000</td><td>0.0000000</td><td>0.0000000</td><td>0.0000000</td><td>0.0000000</td><td>0.0000000</td><td>0.0000000</td></tr>\n",
       "\t<tr><td>0.5332131</td><td>0.0000000</td><td>0.0000000</td><td>0.0000000</td><td>0.0000000</td><td>0.0000000</td><td>0.0000000</td><td>0.0000000</td><td>0.0000000</td></tr>\n",
       "</tbody>\n",
       "</table>\n"
      ],
      "text/latex": [
       "\\begin{tabular}{lllllllll}\n",
       "\t 0.5637825 & 0.5572505 & 0.5545717 & 0.5546927 & 0.5569155 & 0.5607490 & 0.5658334 & 0.5718968 & 0.5787302\\\\\n",
       "\t 0.5558011 & 0.5491001 & 0.5462316 & 0.5461753 & 0.5482454 & 0.5519540 & 0.5569406 & 0.5629313 & 0.0000000\\\\\n",
       "\t 0.5508474 & 0.5436868 & 0.5403838 & 0.5399393 & 0.5416724 & 0.5450942 & 0.5498401 & 0.0000000 & 0.0000000\\\\\n",
       "\t 0.5495987 & 0.5416530 & 0.5376345 & 0.5365543 & 0.5377310 & 0.5406701 & 0.0000000 & 0.0000000 & 0.0000000\\\\\n",
       "\t 0.5534752 & 0.5443029 & 0.5391811 & 0.5371199 & 0.5374305 & 0.0000000 & 0.0000000 & 0.0000000 & 0.0000000\\\\\n",
       "\t 0.5664573 & 0.5551486 & 0.5481305 & 0.5443909 & 0.0000000 & 0.0000000 & 0.0000000 & 0.0000000 & 0.0000000\\\\\n",
       "\t 0.6287228 & 0.6012818 & 0.5843025 & 0.0000000 & 0.0000000 & 0.0000000 & 0.0000000 & 0.0000000 & 0.0000000\\\\\n",
       "\t 0.5337317 & 0.5331524 & 0.0000000 & 0.0000000 & 0.0000000 & 0.0000000 & 0.0000000 & 0.0000000 & 0.0000000\\\\\n",
       "\t 0.5332131 & 0.0000000 & 0.0000000 & 0.0000000 & 0.0000000 & 0.0000000 & 0.0000000 & 0.0000000 & 0.0000000\\\\\n",
       "\\end{tabular}\n"
      ],
      "text/markdown": [
       "\n",
       "| 0.5637825 | 0.5572505 | 0.5545717 | 0.5546927 | 0.5569155 | 0.5607490 | 0.5658334 | 0.5718968 | 0.5787302 | \n",
       "| 0.5558011 | 0.5491001 | 0.5462316 | 0.5461753 | 0.5482454 | 0.5519540 | 0.5569406 | 0.5629313 | 0.0000000 | \n",
       "| 0.5508474 | 0.5436868 | 0.5403838 | 0.5399393 | 0.5416724 | 0.5450942 | 0.5498401 | 0.0000000 | 0.0000000 | \n",
       "| 0.5495987 | 0.5416530 | 0.5376345 | 0.5365543 | 0.5377310 | 0.5406701 | 0.0000000 | 0.0000000 | 0.0000000 | \n",
       "| 0.5534752 | 0.5443029 | 0.5391811 | 0.5371199 | 0.5374305 | 0.0000000 | 0.0000000 | 0.0000000 | 0.0000000 | \n",
       "| 0.5664573 | 0.5551486 | 0.5481305 | 0.5443909 | 0.0000000 | 0.0000000 | 0.0000000 | 0.0000000 | 0.0000000 | \n",
       "| 0.6287228 | 0.6012818 | 0.5843025 | 0.0000000 | 0.0000000 | 0.0000000 | 0.0000000 | 0.0000000 | 0.0000000 | \n",
       "| 0.5337317 | 0.5331524 | 0.0000000 | 0.0000000 | 0.0000000 | 0.0000000 | 0.0000000 | 0.0000000 | 0.0000000 | \n",
       "| 0.5332131 | 0.0000000 | 0.0000000 | 0.0000000 | 0.0000000 | 0.0000000 | 0.0000000 | 0.0000000 | 0.0000000 | \n",
       "\n",
       "\n"
      ],
      "text/plain": [
       "      [,1]      [,2]      [,3]      [,4]      [,5]      [,6]      [,7]     \n",
       " [1,] 0.5637825 0.5572505 0.5545717 0.5546927 0.5569155 0.5607490 0.5658334\n",
       " [2,] 0.5558011 0.5491001 0.5462316 0.5461753 0.5482454 0.5519540 0.5569406\n",
       " [3,] 0.5508474 0.5436868 0.5403838 0.5399393 0.5416724 0.5450942 0.5498401\n",
       " [4,] 0.5495987 0.5416530 0.5376345 0.5365543 0.5377310 0.5406701 0.0000000\n",
       " [5,] 0.5534752 0.5443029 0.5391811 0.5371199 0.5374305 0.0000000 0.0000000\n",
       " [6,] 0.5664573 0.5551486 0.5481305 0.5443909 0.0000000 0.0000000 0.0000000\n",
       " [7,] 0.6287228 0.6012818 0.5843025 0.0000000 0.0000000 0.0000000 0.0000000\n",
       " [8,] 0.5337317 0.5331524 0.0000000 0.0000000 0.0000000 0.0000000 0.0000000\n",
       " [9,] 0.5332131 0.0000000 0.0000000 0.0000000 0.0000000 0.0000000 0.0000000\n",
       "      [,8]      [,9]     \n",
       " [1,] 0.5718968 0.5787302\n",
       " [2,] 0.5629313 0.0000000\n",
       " [3,] 0.0000000 0.0000000\n",
       " [4,] 0.0000000 0.0000000\n",
       " [5,] 0.0000000 0.0000000\n",
       " [6,] 0.0000000 0.0000000\n",
       " [7,] 0.0000000 0.0000000\n",
       " [8,] 0.0000000 0.0000000\n",
       " [9,] 0.0000000 0.0000000"
      ]
     },
     "metadata": {},
     "output_type": "display_data"
    }
   ],
   "source": [
    "RMSLE_matrix"
   ]
  },
  {
   "cell_type": "code",
   "execution_count": 100,
   "metadata": {
    "collapsed": false,
    "deletable": true,
    "editable": true
   },
   "outputs": [
    {
     "data": {
      "text/html": [
       "<table>\n",
       "<thead><tr><th scope=col>row</th><th scope=col>col</th></tr></thead>\n",
       "<tbody>\n",
       "\t<tr><td>8</td><td>2</td></tr>\n",
       "</tbody>\n",
       "</table>\n"
      ],
      "text/latex": [
       "\\begin{tabular}{ll}\n",
       " row & col\\\\\n",
       "\\hline\n",
       "\t 8 & 2\\\\\n",
       "\\end{tabular}\n"
      ],
      "text/markdown": [
       "\n",
       "row | col | \n",
       "|---|\n",
       "| 8 | 2 | \n",
       "\n",
       "\n"
      ],
      "text/plain": [
       "     row col\n",
       "[1,] 8   2  "
      ]
     },
     "metadata": {},
     "output_type": "display_data"
    }
   ],
   "source": [
    "# Find the element in the matrix corresponds to the lowest error?\n",
    "which(RMSLE_matrix == min(RMSLE_matrix[RMSLE_matrix>0]), arr.ind = TRUE) \n"
   ]
  },
  {
   "cell_type": "code",
   "execution_count": null,
   "metadata": {
    "collapsed": true,
    "deletable": true,
    "editable": true
   },
   "outputs": [],
   "source": [
    "# According to the table, the weights put on the predictions from the random forest, \n",
    "# xgboost and linear regression should be 0.8,0.2,and 0. \n",
    "# The lowest RMSLE erros acheived by the weighted average ensemble is 0.5331524."
   ]
  },
  {
   "cell_type": "code",
   "execution_count": 104,
   "metadata": {
    "collapsed": true,
    "deletable": true,
    "editable": true
   },
   "outputs": [],
   "source": [
    "# Save the results for later ...\n",
    "\n",
    "model.results <- rbind(model.results, data.frame( RMSLE =0.5331524, Model=\"weighted_avg\"))"
   ]
  },
  {
   "cell_type": "code",
   "execution_count": 105,
   "metadata": {
    "collapsed": false,
    "deletable": true,
    "editable": true
   },
   "outputs": [
    {
     "data": {
      "text/html": [
       "<table>\n",
       "<thead><tr><th scope=col>RMSLE</th><th scope=col>Model</th></tr></thead>\n",
       "<tbody>\n",
       "\t<tr><td>0.5974126                    </td><td>linear_regression1           </td></tr>\n",
       "\t<tr><td>0.5869695                    </td><td>linear_regression_interaction</td></tr>\n",
       "\t<tr><td>0.5564339                    </td><td>xgboost1                     </td></tr>\n",
       "\t<tr><td>0.5669623                    </td><td>xgboost2                     </td></tr>\n",
       "\t<tr><td>0.5701218                    </td><td>xgboost3                     </td></tr>\n",
       "\t<tr><td>0.5356970                    </td><td>rf1                          </td></tr>\n",
       "\t<tr><td>0.5342046                    </td><td>rf2                          </td></tr>\n",
       "\t<tr><td>0.5643846                    </td><td>rf3                          </td></tr>\n",
       "\t<tr><td>0.5441818                    </td><td>rf3                          </td></tr>\n",
       "\t<tr><td>0.5630676                    </td><td>rf4                          </td></tr>\n",
       "\t<tr><td>0.6227337                    </td><td>rtree1                       </td></tr>\n",
       "\t<tr><td>0.6227337                    </td><td>rtree2                       </td></tr>\n",
       "\t<tr><td>0.6316206                    </td><td>rtree3                       </td></tr>\n",
       "\t<tr><td>0.5550108                    </td><td>avg_1                        </td></tr>\n",
       "\t<tr><td>0.5385909                    </td><td>avg_2                        </td></tr>\n",
       "\t<tr><td>0.5374305                    </td><td>avg_3                        </td></tr>\n",
       "\t<tr><td>0.5331524                    </td><td>weighted_avg                 </td></tr>\n",
       "</tbody>\n",
       "</table>\n"
      ],
      "text/latex": [
       "\\begin{tabular}{r|ll}\n",
       " RMSLE & Model\\\\\n",
       "\\hline\n",
       "\t 0.5974126                       & linear\\_regression1           \\\\\n",
       "\t 0.5869695                         & linear\\_regression\\_interaction\\\\\n",
       "\t 0.5564339                     & xgboost1                     \\\\\n",
       "\t 0.5669623                     & xgboost2                     \\\\\n",
       "\t 0.5701218                     & xgboost3                     \\\\\n",
       "\t 0.5356970                     & rf1                          \\\\\n",
       "\t 0.5342046                     & rf2                          \\\\\n",
       "\t 0.5643846                     & rf3                          \\\\\n",
       "\t 0.5441818                     & rf3                          \\\\\n",
       "\t 0.5630676                     & rf4                          \\\\\n",
       "\t 0.6227337                     & rtree1                       \\\\\n",
       "\t 0.6227337                     & rtree2                       \\\\\n",
       "\t 0.6316206                     & rtree3                       \\\\\n",
       "\t 0.5550108                       & avg\\_1                        \\\\\n",
       "\t 0.5385909                       & avg\\_2                        \\\\\n",
       "\t 0.5374305                       & avg\\_3                        \\\\\n",
       "\t 0.5331524                       & weighted\\_avg                 \\\\\n",
       "\\end{tabular}\n"
      ],
      "text/markdown": [
       "\n",
       "RMSLE | Model | \n",
       "|---|---|---|---|---|---|---|---|---|---|---|---|---|---|---|---|---|\n",
       "| 0.5974126                     | linear_regression1            | \n",
       "| 0.5869695                     | linear_regression_interaction | \n",
       "| 0.5564339                     | xgboost1                      | \n",
       "| 0.5669623                     | xgboost2                      | \n",
       "| 0.5701218                     | xgboost3                      | \n",
       "| 0.5356970                     | rf1                           | \n",
       "| 0.5342046                     | rf2                           | \n",
       "| 0.5643846                     | rf3                           | \n",
       "| 0.5441818                     | rf3                           | \n",
       "| 0.5630676                     | rf4                           | \n",
       "| 0.6227337                     | rtree1                        | \n",
       "| 0.6227337                     | rtree2                        | \n",
       "| 0.6316206                     | rtree3                        | \n",
       "| 0.5550108                     | avg_1                         | \n",
       "| 0.5385909                     | avg_2                         | \n",
       "| 0.5374305                     | avg_3                         | \n",
       "| 0.5331524                     | weighted_avg                  | \n",
       "\n",
       "\n"
      ],
      "text/plain": [
       "   RMSLE     Model                        \n",
       "1  0.5974126 linear_regression1           \n",
       "2  0.5869695 linear_regression_interaction\n",
       "3  0.5564339 xgboost1                     \n",
       "4  0.5669623 xgboost2                     \n",
       "5  0.5701218 xgboost3                     \n",
       "6  0.5356970 rf1                          \n",
       "7  0.5342046 rf2                          \n",
       "8  0.5643846 rf3                          \n",
       "9  0.5441818 rf3                          \n",
       "10 0.5630676 rf4                          \n",
       "11 0.6227337 rtree1                       \n",
       "12 0.6227337 rtree2                       \n",
       "13 0.6316206 rtree3                       \n",
       "14 0.5550108 avg_1                        \n",
       "15 0.5385909 avg_2                        \n",
       "16 0.5374305 avg_3                        \n",
       "17 0.5331524 weighted_avg                 "
      ]
     },
     "metadata": {},
     "output_type": "display_data"
    }
   ],
   "source": [
    "model.results"
   ]
  },
  {
   "cell_type": "code",
   "execution_count": null,
   "metadata": {
    "collapsed": true,
    "deletable": true,
    "editable": true
   },
   "outputs": [],
   "source": [
    "# 4.6. Best prediction model "
   ]
  },
  {
   "cell_type": "code",
   "execution_count": 85,
   "metadata": {
    "collapsed": true,
    "deletable": true,
    "editable": true
   },
   "outputs": [],
   "source": [
    "#train the best model on the whole dataset"
   ]
  },
  {
   "cell_type": "code",
   "execution_count": 106,
   "metadata": {
    "collapsed": true,
    "deletable": true,
    "editable": true
   },
   "outputs": [],
   "source": [
    "# Pull apart the Xs and Ys into separate frames.\n",
    "xtrainf <- train.df[ , -c(4,5,6,7,19)]\n",
    "ytrainf <- train.df[ , 19]\n"
   ]
  },
  {
   "cell_type": "code",
   "execution_count": 107,
   "metadata": {
    "collapsed": true,
    "deletable": true,
    "editable": true
   },
   "outputs": [],
   "source": [
    "\n",
    "# Select variables.\n",
    "# hour, month, handle_count, hashtag_count, happines_score\n",
    "variablesSelected <- c(10,11,15,16,17)  "
   ]
  },
  {
   "cell_type": "code",
   "execution_count": 108,
   "metadata": {
    "collapsed": false,
    "deletable": true,
    "editable": true
   },
   "outputs": [],
   "source": [
    "\n",
    "# Create matrix for xgboost.\n",
    "xtrain.xgb <- model.matrix(~ 0 + ., data = xtrainf[, variablesSelected])\n",
    "\n",
    "\n",
    "# Fit the xgboost model\n",
    "model.xgb <- xgboost(xtrain.xgb, log(ytrainf+1), nround = 50, verbose = 0, nthred = workers)  #nround=50 (0.556433932153292), \n",
    "                                                                                                    #=100(0.557719466805755)\n",
    "                                                                                            #=75 (0.557078972676131)\n",
    "                                                                               #=40  (0.55689691697435)\n",
    "\n",
    "# Fit the random forest\n",
    "\n",
    "model.rf2 <- foreach(ntreePerWorker = rep(ceiling(500/workers), workers), .combine=combine, .multicombine=TRUE, .inorder=FALSE, .packages = c(\"randomForest\")) %dopar% {\n",
    "  randomForest(xtrainf[, variablesSelected], log(ytrainf+1), ntree = ntreePerWorker, mtry = 2, importance = TRUE,set.seed(202, \"L'Ecuyer\"))\n",
    "}\n"
   ]
  },
  {
   "cell_type": "code",
   "execution_count": 111,
   "metadata": {
    "collapsed": true,
    "deletable": true,
    "editable": true
   },
   "outputs": [],
   "source": [
    "\n",
    "#xgboost1\n",
    "\n",
    "xtrain.xgb <- model.matrix(~ 0 + ., data = xtest)\n",
    "\n",
    "# Generate predictions\n",
    "xgb.pred <- predict(model.xgb, xtrain.xgb)\n",
    "xgb.pred.unlogged_test <- exp(xgb.pred) - 1  # Unlog the y variable.\n",
    "\n",
    "\n",
    "#random forest 2\n",
    "# Generate predictions\n",
    "rf.pred <- predict(model.rf2, xtest)\n",
    "rf.pred.unlogged_test <- exp(rf.pred) - 1  # Unlog the y variable.\n",
    "\n"
   ]
  },
  {
   "cell_type": "code",
   "execution_count": 112,
   "metadata": {
    "collapsed": true,
    "deletable": true,
    "editable": true
   },
   "outputs": [],
   "source": [
    "ensemble_pred<-0.8*rf.pred.unlogged_test +xgb.pred.unlogged_test*0.2 "
   ]
  },
  {
   "cell_type": "code",
   "execution_count": 113,
   "metadata": {
    "collapsed": false,
    "deletable": true,
    "editable": true
   },
   "outputs": [
    {
     "data": {
      "text/html": [
       "<dl class=dl-horizontal>\n",
       "\t<dt>1</dt>\n",
       "\t\t<dd>2.55478907346168</dd>\n",
       "\t<dt>2</dt>\n",
       "\t\t<dd>5.46222663789033</dd>\n",
       "\t<dt>3</dt>\n",
       "\t\t<dd>1.47947038157358</dd>\n",
       "\t<dt>4</dt>\n",
       "\t\t<dd>1.37576411089721</dd>\n",
       "</dl>\n"
      ],
      "text/latex": [
       "\\begin{description*}\n",
       "\\item[1] 2.55478907346168\n",
       "\\item[2] 5.46222663789033\n",
       "\\item[3] 1.47947038157358\n",
       "\\item[4] 1.37576411089721\n",
       "\\end{description*}\n"
      ],
      "text/markdown": [
       "1\n",
       ":   2.554789073461682\n",
       ":   5.462226637890333\n",
       ":   1.479470381573584\n",
       ":   1.37576411089721\n",
       "\n"
      ],
      "text/plain": [
       "       1        2        3        4 \n",
       "2.554789 5.462227 1.479470 1.375764 "
      ]
     },
     "metadata": {},
     "output_type": "display_data"
    }
   ],
   "source": [
    "ensemble_pred"
   ]
  }
 ],
 "metadata": {
  "kernelspec": {
   "display_name": "R",
   "language": "R",
   "name": "ir"
  },
  "language_info": {
   "codemirror_mode": "r",
   "file_extension": ".r",
   "mimetype": "text/x-r-source",
   "name": "R",
   "pygments_lexer": "r",
   "version": "3.3.3"
  }
 },
 "nbformat": 4,
 "nbformat_minor": 2
}
